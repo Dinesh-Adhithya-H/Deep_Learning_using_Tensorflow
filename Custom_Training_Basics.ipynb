{
  "nbformat": 4,
  "nbformat_minor": 0,
  "metadata": {
    "colab": {
      "name": "Custom Training Basics.ipynb",
      "provenance": [],
      "authorship_tag": "ABX9TyOkS8DUgld/Y2sGwUZz5jdc",
      "include_colab_link": true
    },
    "kernelspec": {
      "name": "python3",
      "display_name": "Python 3"
    },
    "language_info": {
      "name": "python"
    }
  },
  "cells": [
    {
      "cell_type": "markdown",
      "metadata": {
        "id": "view-in-github",
        "colab_type": "text"
      },
      "source": [
        "<a href=\"https://colab.research.google.com/github/Dinesh-Adhithya-H/Deep_Learning_using_Tensorflow/blob/main/Custom_Training_Basics.ipynb\" target=\"_parent\"><img src=\"https://colab.research.google.com/assets/colab-badge.svg\" alt=\"Open In Colab\"/></a>"
      ]
    },
    {
      "cell_type": "code",
      "metadata": {
        "id": "lyXVb3YaPGKW"
      },
      "source": [
        "import tensorflow as tf\n",
        "import numpy as np\n",
        "import matplotlib.pyplot as plt"
      ],
      "execution_count": 5,
      "outputs": []
    },
    {
      "cell_type": "code",
      "metadata": {
        "id": "lS2b_SvkPUTC"
      },
      "source": [
        "class model(object):\n",
        "  def __init__(self):\n",
        "    self.w=tf.Variable(2.0)\n",
        "    self.b=tf.Variable(1.0)\n",
        "  def __call__(self,x):\n",
        "    return self.w*x+self.b"
      ],
      "execution_count": 6,
      "outputs": []
    },
    {
      "cell_type": "code",
      "metadata": {
        "id": "eGs2FDVoP-2B"
      },
      "source": [
        "m1=model()"
      ],
      "execution_count": 7,
      "outputs": []
    },
    {
      "cell_type": "code",
      "metadata": {
        "id": "5YVAMZRFQA5k"
      },
      "source": [
        "def loss(predicted_y,target_y):\n",
        "  return tf.reduce_mean(tf.square(predicted_y-target_y))"
      ],
      "execution_count": 8,
      "outputs": []
    },
    {
      "cell_type": "code",
      "metadata": {
        "id": "mvzEiSYHQRfY"
      },
      "source": [
        "true_w=10.0\n",
        "true_b=3.0\n",
        "num=1000\n",
        "x=tf.random.normal(shape=[num])\n",
        "y=true_w*x+true_b"
      ],
      "execution_count": 10,
      "outputs": []
    },
    {
      "cell_type": "code",
      "metadata": {
        "id": "5zPXEuUoiJsM"
      },
      "source": [
        "def train(model,inputs,outputs,learning_rate):\n",
        "  with tf.GradientTape() as t:\n",
        "    current_loss=loss(model(inputs),outputs)\n",
        "    dw,db=t.gradient(current_loss,[model.w,model.b])\n",
        "    model.w.assign_sub(learning_rate*dw)\n",
        "    model.b.assign_sub(learning_rate*db)\n",
        "  return current_loss"
      ],
      "execution_count": 11,
      "outputs": []
    },
    {
      "cell_type": "code",
      "metadata": {
        "id": "eZtxNMEAkh3i"
      },
      "source": [
        "m1=model()\n",
        "list_w=[]\n",
        "list_b=[]\n",
        "epochs=range(20)\n",
        "losses=[]\n",
        "for epoch in epochs:\n",
        "  list_w.append(m1.w.numpy())\n",
        "  list_b.append(m1.b.numpy())\n",
        "  current_loss=train(m1,x,y,learning_rate=0.1)\n",
        "  losses.append(current_loss)"
      ],
      "execution_count": 12,
      "outputs": []
    },
    {
      "cell_type": "code",
      "metadata": {
        "colab": {
          "base_uri": "https://localhost:8080/"
        },
        "id": "J3slhefcm9tQ",
        "outputId": "1a3334ea-19dc-4f71-a01c-53a033d1a11b"
      },
      "source": [
        "list_w[-1],true_w"
      ],
      "execution_count": 13,
      "outputs": [
        {
          "output_type": "execute_result",
          "data": {
            "text/plain": [
              "(9.874977, 10.0)"
            ]
          },
          "metadata": {
            "tags": []
          },
          "execution_count": 13
        }
      ]
    },
    {
      "cell_type": "code",
      "metadata": {
        "colab": {
          "base_uri": "https://localhost:8080/"
        },
        "id": "EYLyRo-CnB0I",
        "outputId": "a9296ee3-5fd4-4208-ab70-f63bf8c27128"
      },
      "source": [
        "list_b[-1],true_b"
      ],
      "execution_count": 14,
      "outputs": [
        {
          "output_type": "execute_result",
          "data": {
            "text/plain": [
              "(2.9958162, 3.0)"
            ]
          },
          "metadata": {
            "tags": []
          },
          "execution_count": 14
        }
      ]
    },
    {
      "cell_type": "code",
      "metadata": {
        "colab": {
          "base_uri": "https://localhost:8080/",
          "height": 283
        },
        "id": "JqdNiIYdnFUB",
        "outputId": "078ac9e9-964e-4f5c-9223-aa121058fe01"
      },
      "source": [
        "plt.plot(epochs,list_w,\"r\")\n",
        "plt.plot(epochs,list_b,\"b\")\n",
        "plt.plot(epochs,[true_b]*len(epochs),\"b--\")\n",
        "plt.plot(epochs,[true_w]*len(epochs),\"r--\")"
      ],
      "execution_count": 21,
      "outputs": [
        {
          "output_type": "execute_result",
          "data": {
            "text/plain": [
              "[<matplotlib.lines.Line2D at 0x7fc5eeca0f10>]"
            ]
          },
          "metadata": {
            "tags": []
          },
          "execution_count": 21
        },
        {
          "output_type": "display_data",
          "data": {
            "image/png": "[encoded data removed]",
            "text/plain": [
              "<Figure size 432x288 with 1 Axes>"
            ]
          },
          "metadata": {
            "tags": [],
            "needs_background": "light"
          }
        }
      ]
    },
    {
      "cell_type": "code",
      "metadata": {
        "colab": {
          "base_uri": "https://localhost:8080/",
          "height": 284
        },
        "id": "pB3Ty-dTnYdZ",
        "outputId": "484ee6ba-5ad7-4020-f206-fccdc3f0a966"
      },
      "source": [
        "plt.plot(epochs,losses)"
      ],
      "execution_count": 24,
      "outputs": [
        {
          "output_type": "execute_result",
          "data": {
            "text/plain": [
              "[<matplotlib.lines.Line2D at 0x7fc5eebdd1d0>]"
            ]
          },
          "metadata": {
            "tags": []
          },
          "execution_count": 24
        },
        {
          "output_type": "display_data",
          "data": {
            "image/png": "[encoded data removed]",
            "text/plain": [
              "<Figure size 432x288 with 1 Axes>"
            ]
          },
          "metadata": {
            "tags": [],
            "needs_background": "light"
          }
        }
      ]
    },
    {
      "cell_type": "code",
      "metadata": {
        "id": "mMQ40oYpoOe6"
      },
      "source": [
        ""
      ],
      "execution_count": null,
      "outputs": []
    }
  ]
}