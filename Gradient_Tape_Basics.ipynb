{
  "nbformat": 4,
  "nbformat_minor": 0,
  "metadata": {
    "colab": {
      "name": "Gradient Tape Basics.ipynb",
      "provenance": [],
      "authorship_tag": "ABX9TyOIKzZ81KlhOLvFm5h+nal3",
      "include_colab_link": true
    },
    "kernelspec": {
      "name": "python3",
      "display_name": "Python 3"
    },
    "language_info": {
      "name": "python"
    }
  },
  "cells": [
    {
      "cell_type": "markdown",
      "metadata": {
        "id": "view-in-github",
        "colab_type": "text"
      },
      "source": [
        "<a href=\"https://colab.research.google.com/github/Dinesh-Adhithya-H/Deep_Learning_using_Tensorflow/blob/main/Gradient_Tape_Basics.ipynb\" target=\"_parent\"><img src=\"https://colab.research.google.com/assets/colab-badge.svg\" alt=\"Open In Colab\"/></a>"
      ]
    },
    {
      "cell_type": "code",
      "metadata": {
        "id": "5mZdUrr8ZKgx"
      },
      "source": [
        "import tensorflow as tf\n",
        "import numpy as np"
      ],
      "execution_count": 1,
      "outputs": []
    },
    {
      "cell_type": "code",
      "metadata": {
        "colab": {
          "base_uri": "https://localhost:8080/"
        },
        "id": "ReSvfae7ZayU",
        "outputId": "28729e7d-4cdd-44b7-e3fe-b06c017958f6"
      },
      "source": [
        "x=tf.ones((4,4))\n",
        "with tf.GradientTape() as t:\n",
        "  t.watch(x)\n",
        "  y=tf.reduce_sum(x)\n",
        "  z=tf.square(y)\n",
        "dz_dx=t.gradient(z,x)\n",
        "print(dz_dx)"
      ],
      "execution_count": 3,
      "outputs": [
        {
          "output_type": "stream",
          "text": [
            "tf.Tensor(\n",
            "[[32. 32. 32. 32.]\n",
            " [32. 32. 32. 32.]\n",
            " [32. 32. 32. 32.]\n",
            " [32. 32. 32. 32.]], shape=(4, 4), dtype=float32)\n"
          ],
          "name": "stdout"
        }
      ]
    },
    {
      "cell_type": "code",
      "metadata": {
        "colab": {
          "base_uri": "https://localhost:8080/"
        },
        "id": "VJ8dZtIjerUQ",
        "outputId": "da3ffc6e-aa86-438c-efdd-350c57e359ed"
      },
      "source": [
        "x=tf.constant(3.0)\n",
        "with tf.GradientTape(persistent=True) as t:\n",
        "  t.watch(x)\n",
        "  y=x*x\n",
        "  z=y*y\n",
        "dz_dx=t.gradient(z,x)\n",
        "print(dz_dx)"
      ],
      "execution_count": 8,
      "outputs": [
        {
          "output_type": "stream",
          "text": [
            "tf.Tensor(108.0, shape=(), dtype=float32)\n"
          ],
          "name": "stdout"
        }
      ]
    },
    {
      "cell_type": "code",
      "metadata": {
        "colab": {
          "base_uri": "https://localhost:8080/"
        },
        "id": "ixxiRCz0fDyW",
        "outputId": "5a39adb3-a94e-4a84-d8ca-9cb711f048a1"
      },
      "source": [
        "try:\n",
        "  dy_dx=t.gradient(y,x)\n",
        "  print(dy_dx)\n",
        "except RuntimeError as e:\n",
        "  print(\"Error as gradient type can be used only once\")"
      ],
      "execution_count": 9,
      "outputs": [
        {
          "output_type": "stream",
          "text": [
            "tf.Tensor(6.0, shape=(), dtype=float32)\n"
          ],
          "name": "stdout"
        }
      ]
    },
    {
      "cell_type": "code",
      "metadata": {
        "id": "bBMxPBKRfrid"
      },
      "source": [
        "del t"
      ],
      "execution_count": 10,
      "outputs": []
    },
    {
      "cell_type": "code",
      "metadata": {
        "id": "Nv3JQL3uf5qI"
      },
      "source": [
        "x=tf.Variable(1.0)\n",
        "with tf.GradientTape() as t2:\n",
        "  with tf.GradientTape() as t1:\n",
        "    y=x*x*x\n",
        "  dy_dx=t1.gradient(y,x)\n",
        "d2y_d2x=t2.gradient(dy_dx,x)"
      ],
      "execution_count": 12,
      "outputs": []
    },
    {
      "cell_type": "code",
      "metadata": {
        "colab": {
          "base_uri": "https://localhost:8080/"
        },
        "id": "YShXP37ygwS2",
        "outputId": "87f70e41-b7ff-4f5a-ad05-dd6052a64a4d"
      },
      "source": [
        "dy_dx,d2y_d2x"
      ],
      "execution_count": 13,
      "outputs": [
        {
          "output_type": "execute_result",
          "data": {
            "text/plain": [
              "(<tf.Tensor: shape=(), dtype=float32, numpy=3.0>,\n",
              " <tf.Tensor: shape=(), dtype=float32, numpy=6.0>)"
            ]
          },
          "metadata": {
            "tags": []
          },
          "execution_count": 13
        }
      ]
    },
    {
      "cell_type": "code",
      "metadata": {
        "id": "WKCaxn1Gg11N"
      },
      "source": [
        ""
      ],
      "execution_count": null,
      "outputs": []
    }
  ]
}