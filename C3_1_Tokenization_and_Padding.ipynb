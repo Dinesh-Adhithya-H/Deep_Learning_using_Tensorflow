{
  "nbformat": 4,
  "nbformat_minor": 0,
  "metadata": {
    "colab": {
      "name": "C3_1_Tokenization_and_Padding.ipynb",
      "provenance": [],
      "authorship_tag": "ABX9TyMlt6Vt75Embd82G/bVRTWw",
      "include_colab_link": true
    },
    "kernelspec": {
      "name": "python3",
      "display_name": "Python 3"
    }
  },
  "cells": [
    {
      "cell_type": "markdown",
      "metadata": {
        "id": "view-in-github",
        "colab_type": "text"
      },
      "source": [
        "<a href=\"https://colab.research.google.com/github/Dinesh-Adhithya-H/Deep_Learning_using_Tensorflow/blob/main/C3_1_Tokenization_and_Padding.ipynb\" target=\"_parent\"><img src=\"https://colab.research.google.com/assets/colab-badge.svg\" alt=\"Open In Colab\"/></a>"
      ]
    },
    {
      "cell_type": "code",
      "metadata": {
        "colab": {
          "base_uri": "https://localhost:8080/"
        },
        "id": "Mg-D9xOCOxjf",
        "outputId": "26f8e459-8142-493a-fb0d-df1b2ebe73ea"
      },
      "source": [
        "from tensorflow.keras.preprocessing.text import Tokenizer\r\n",
        "sentences=[\"i love my cat\",\"i FUCKED MY cat.\",\"I killed my cat?\",\"do you think i killed my dog\"]\r\n",
        "tokenizer=Tokenizer(num_words=40,oov_token=\"<OVV>\")\r\n",
        "tokenizer.fit_on_texts(sentences)\r\n",
        "tokenizer.word_index"
      ],
      "execution_count": 18,
      "outputs": [
        {
          "output_type": "execute_result",
          "data": {
            "text/plain": [
              "{'<OVV>': 1,\n",
              " 'cat': 4,\n",
              " 'do': 8,\n",
              " 'dog': 11,\n",
              " 'fucked': 7,\n",
              " 'i': 2,\n",
              " 'killed': 5,\n",
              " 'love': 6,\n",
              " 'my': 3,\n",
              " 'think': 10,\n",
              " 'you': 9}"
            ]
          },
          "metadata": {
            "tags": []
          },
          "execution_count": 18
        }
      ]
    },
    {
      "cell_type": "code",
      "metadata": {
        "id": "uT__9KMEQ0Hz"
      },
      "source": [
        "word_index=tokenizer.word_index"
      ],
      "execution_count": 19,
      "outputs": []
    },
    {
      "cell_type": "code",
      "metadata": {
        "id": "0Cw3ADqSRtyE"
      },
      "source": [
        " sequences=tokenizer.texts_to_sequences(sentences)"
      ],
      "execution_count": 20,
      "outputs": []
    },
    {
      "cell_type": "code",
      "metadata": {
        "colab": {
          "base_uri": "https://localhost:8080/"
        },
        "id": "mbpX8QEGURJD",
        "outputId": "67691491-d465-4b90-801b-a6a388ba07c0"
      },
      "source": [
        "sequences"
      ],
      "execution_count": 21,
      "outputs": [
        {
          "output_type": "execute_result",
          "data": {
            "text/plain": [
              "[[2, 6, 3, 4], [2, 7, 3, 4], [2, 5, 3, 4], [8, 9, 10, 2, 5, 3, 11]]"
            ]
          },
          "metadata": {
            "tags": []
          },
          "execution_count": 21
        }
      ]
    },
    {
      "cell_type": "code",
      "metadata": {
        "id": "RyGgkA6JUSK6"
      },
      "source": [
        "test_data=[\"i am gay\",\"my cat is gay\"]"
      ],
      "execution_count": 22,
      "outputs": []
    },
    {
      "cell_type": "code",
      "metadata": {
        "id": "vmwBwzs8UbDj"
      },
      "source": [
        "test_seq=tokenizer.texts_to_sequences(test_data)"
      ],
      "execution_count": 23,
      "outputs": []
    },
    {
      "cell_type": "code",
      "metadata": {
        "colab": {
          "base_uri": "https://localhost:8080/"
        },
        "id": "rYpQP8THUjNk",
        "outputId": "65e0d0e9-0d52-469d-e996-448120d2ab0c"
      },
      "source": [
        "test_seq"
      ],
      "execution_count": 24,
      "outputs": [
        {
          "output_type": "execute_result",
          "data": {
            "text/plain": [
              "[[2, 1, 1], [3, 4, 1, 1]]"
            ]
          },
          "metadata": {
            "tags": []
          },
          "execution_count": 24
        }
      ]
    },
    {
      "cell_type": "code",
      "metadata": {
        "id": "ZbU6iWOtUkVB"
      },
      "source": [
        "from tensorflow.keras.preprocessing.sequence import pad_sequences\r\n",
        "padded=pad_sequences(sequences,padding=\"post\",maxlen=6,truncating=\"post\")"
      ],
      "execution_count": 31,
      "outputs": []
    },
    {
      "cell_type": "code",
      "metadata": {
        "colab": {
          "base_uri": "https://localhost:8080/"
        },
        "id": "jM2AkCXRXTe7",
        "outputId": "15f4dc7e-6594-4a2c-ee3d-5b5ece46d5b0"
      },
      "source": [
        "print(padded)"
      ],
      "execution_count": 32,
      "outputs": [
        {
          "output_type": "stream",
          "text": [
            "[[ 2  6  3  4  0  0]\n",
            " [ 2  7  3  4  0  0]\n",
            " [ 2  5  3  4  0  0]\n",
            " [ 8  9 10  2  5  3]]\n"
          ],
          "name": "stdout"
        }
      ]
    },
    {
      "cell_type": "code",
      "metadata": {
        "id": "VU4ataxKXWN7"
      },
      "source": [
        ""
      ],
      "execution_count": null,
      "outputs": []
    }
  ]
}