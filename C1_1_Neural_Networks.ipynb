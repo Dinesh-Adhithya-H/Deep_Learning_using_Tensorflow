{
  "nbformat": 4,
  "nbformat_minor": 0,
  "metadata": {
    "colab": {
      "name": "C1_Neural_Networks.ipynb",
      "provenance": []
    },
    "kernelspec": {
      "name": "python3",
      "display_name": "Python 3"
    }
  },
  "cells": [
    {
      "cell_type": "code",
      "metadata": {
        "id": "LWBR0d1WWByD"
      },
      "source": [
        "import tensorflow as tf\r\n",
        "import numpy as np\r\n",
        "from tensorflow import keras"
      ],
      "execution_count": 1,
      "outputs": []
    },
    {
      "cell_type": "code",
      "metadata": {
        "id": "3ZxzXdUjWsw_"
      },
      "source": [
        "model=tf.keras.Sequential([keras.layers.Dense(units=1,input_shape=[1])])"
      ],
      "execution_count": 8,
      "outputs": []
    },
    {
      "cell_type": "code",
      "metadata": {
        "id": "V8CCR-FSW5QH"
      },
      "source": [
        "model.compile(optimizer='sgd', loss='mean_squared_error')\r\n"
      ],
      "execution_count": 9,
      "outputs": []
    },
    {
      "cell_type": "code",
      "metadata": {
        "id": "oWxPgzVpW7_u"
      },
      "source": [
        "xs = np.array([-1.0,  0.0, 1.0, 2.0, 3.0, 4.0], dtype=float)\r\n",
        "ys = np.array([-3.0, -1.0, 1.0, 3.0, 5.0, 7.0], dtype=float)"
      ],
      "execution_count": 10,
      "outputs": []
    },
    {
      "cell_type": "code",
      "metadata": {
        "colab": {
          "base_uri": "https://localhost:8080/"
        },
        "id": "N5x2BCYDXAWG",
        "outputId": "bd6a3eed-fc0f-4665-adc2-e125650d4803"
      },
      "source": [
        "model.fit(xs, ys, epochs=50)"
      ],
      "execution_count": 11,
      "outputs": [
        {
          "output_type": "stream",
          "text": [
            "Epoch 1/50\n",
            "1/1 [==============================] - 0s 215ms/step - loss: 5.9847\n",
            "Epoch 2/50\n",
            "1/1 [==============================] - 0s 7ms/step - loss: 4.8912\n",
            "Epoch 3/50\n",
            "1/1 [==============================] - 0s 2ms/step - loss: 4.0271\n",
            "Epoch 4/50\n",
            "1/1 [==============================] - 0s 3ms/step - loss: 3.3436\n",
            "Epoch 5/50\n",
            "1/1 [==============================] - 0s 5ms/step - loss: 2.8023\n",
            "Epoch 6/50\n",
            "1/1 [==============================] - 0s 7ms/step - loss: 2.3728\n",
            "Epoch 7/50\n",
            "1/1 [==============================] - 0s 10ms/step - loss: 2.0315\n",
            "Epoch 8/50\n",
            "1/1 [==============================] - 0s 4ms/step - loss: 1.7596\n",
            "Epoch 9/50\n",
            "1/1 [==============================] - 0s 4ms/step - loss: 1.5424\n",
            "Epoch 10/50\n",
            "1/1 [==============================] - 0s 4ms/step - loss: 1.3682\n",
            "Epoch 11/50\n",
            "1/1 [==============================] - 0s 5ms/step - loss: 1.2280\n",
            "Epoch 12/50\n",
            "1/1 [==============================] - 0s 4ms/step - loss: 1.1146\n",
            "Epoch 13/50\n",
            "1/1 [==============================] - 0s 4ms/step - loss: 1.0223\n",
            "Epoch 14/50\n",
            "1/1 [==============================] - 0s 5ms/step - loss: 0.9467\n",
            "Epoch 15/50\n",
            "1/1 [==============================] - 0s 4ms/step - loss: 0.8843\n",
            "Epoch 16/50\n",
            "1/1 [==============================] - 0s 4ms/step - loss: 0.8324\n",
            "Epoch 17/50\n",
            "1/1 [==============================] - 0s 4ms/step - loss: 0.7887\n",
            "Epoch 18/50\n",
            "1/1 [==============================] - 0s 4ms/step - loss: 0.7516\n",
            "Epoch 19/50\n",
            "1/1 [==============================] - 0s 4ms/step - loss: 0.7197\n",
            "Epoch 20/50\n",
            "1/1 [==============================] - 0s 4ms/step - loss: 0.6920\n",
            "Epoch 21/50\n",
            "1/1 [==============================] - 0s 4ms/step - loss: 0.6676\n",
            "Epoch 22/50\n",
            "1/1 [==============================] - 0s 4ms/step - loss: 0.6459\n",
            "Epoch 23/50\n",
            "1/1 [==============================] - 0s 4ms/step - loss: 0.6263\n",
            "Epoch 24/50\n",
            "1/1 [==============================] - 0s 4ms/step - loss: 0.6085\n",
            "Epoch 25/50\n",
            "1/1 [==============================] - 0s 4ms/step - loss: 0.5921\n",
            "Epoch 26/50\n",
            "1/1 [==============================] - 0s 4ms/step - loss: 0.5768\n",
            "Epoch 27/50\n",
            "1/1 [==============================] - 0s 4ms/step - loss: 0.5626\n",
            "Epoch 28/50\n",
            "1/1 [==============================] - 0s 4ms/step - loss: 0.5491\n",
            "Epoch 29/50\n",
            "1/1 [==============================] - 0s 4ms/step - loss: 0.5363\n",
            "Epoch 30/50\n",
            "1/1 [==============================] - 0s 5ms/step - loss: 0.5241\n",
            "Epoch 31/50\n",
            "1/1 [==============================] - 0s 4ms/step - loss: 0.5124\n",
            "Epoch 32/50\n",
            "1/1 [==============================] - 0s 5ms/step - loss: 0.5012\n",
            "Epoch 33/50\n",
            "1/1 [==============================] - 0s 5ms/step - loss: 0.4903\n",
            "Epoch 34/50\n",
            "1/1 [==============================] - 0s 5ms/step - loss: 0.4798\n",
            "Epoch 35/50\n",
            "1/1 [==============================] - 0s 5ms/step - loss: 0.4696\n",
            "Epoch 36/50\n",
            "1/1 [==============================] - 0s 4ms/step - loss: 0.4597\n",
            "Epoch 37/50\n",
            "1/1 [==============================] - 0s 5ms/step - loss: 0.4500\n",
            "Epoch 38/50\n",
            "1/1 [==============================] - 0s 5ms/step - loss: 0.4406\n",
            "Epoch 39/50\n",
            "1/1 [==============================] - 0s 5ms/step - loss: 0.4314\n",
            "Epoch 40/50\n",
            "1/1 [==============================] - 0s 5ms/step - loss: 0.4224\n",
            "Epoch 41/50\n",
            "1/1 [==============================] - 0s 4ms/step - loss: 0.4137\n",
            "Epoch 42/50\n",
            "1/1 [==============================] - 0s 6ms/step - loss: 0.4051\n",
            "Epoch 43/50\n",
            "1/1 [==============================] - 0s 4ms/step - loss: 0.3967\n",
            "Epoch 44/50\n",
            "1/1 [==============================] - 0s 7ms/step - loss: 0.3885\n",
            "Epoch 45/50\n",
            "1/1 [==============================] - 0s 6ms/step - loss: 0.3805\n",
            "Epoch 46/50\n",
            "1/1 [==============================] - 0s 3ms/step - loss: 0.3727\n",
            "Epoch 47/50\n",
            "1/1 [==============================] - 0s 5ms/step - loss: 0.3650\n",
            "Epoch 48/50\n",
            "1/1 [==============================] - 0s 3ms/step - loss: 0.3575\n",
            "Epoch 49/50\n",
            "1/1 [==============================] - 0s 3ms/step - loss: 0.3502\n",
            "Epoch 50/50\n",
            "1/1 [==============================] - 0s 7ms/step - loss: 0.3429\n"
          ],
          "name": "stdout"
        },
        {
          "output_type": "execute_result",
          "data": {
            "text/plain": [
              "<tensorflow.python.keras.callbacks.History at 0x7ff53e876160>"
            ]
          },
          "metadata": {
            "tags": []
          },
          "execution_count": 11
        }
      ]
    },
    {
      "cell_type": "code",
      "metadata": {
        "colab": {
          "base_uri": "https://localhost:8080/"
        },
        "id": "YXN-rhdRXCeY",
        "outputId": "6f38d09d-00c3-43d9-eb6b-79f656618f0e"
      },
      "source": [
        "model.summary()"
      ],
      "execution_count": 12,
      "outputs": [
        {
          "output_type": "stream",
          "text": [
            "Model: \"sequential_1\"\n",
            "_________________________________________________________________\n",
            "Layer (type)                 Output Shape              Param #   \n",
            "=================================================================\n",
            "dense_1 (Dense)              (None, 1)                 2         \n",
            "=================================================================\n",
            "Total params: 2\n",
            "Trainable params: 2\n",
            "Non-trainable params: 0\n",
            "_________________________________________________________________\n"
          ],
          "name": "stdout"
        }
      ]
    },
    {
      "cell_type": "code",
      "metadata": {
        "colab": {
          "base_uri": "https://localhost:8080/"
        },
        "id": "i9TeFs3GXIVM",
        "outputId": "6e65252b-4c12-493d-8b63-399c2ebb3220"
      },
      "source": [
        "print(model.predict([10.0]))\r\n"
      ],
      "execution_count": 13,
      "outputs": [
        {
          "output_type": "stream",
          "text": [
            "[[17.268429]]\n"
          ],
          "name": "stdout"
        }
      ]
    }
  ]
}
