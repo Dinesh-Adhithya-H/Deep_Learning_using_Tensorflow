{
  "nbformat": 4,
  "nbformat_minor": 0,
  "metadata": {
    "colab": {
      "name": "Broadcasting, operator overloading and Numpy compatibility.ipynb",
      "provenance": [],
      "authorship_tag": "ABX9TyNuP4EOVplH6amP+L+J2aah",
      "include_colab_link": true
    },
    "kernelspec": {
      "name": "python3",
      "display_name": "Python 3"
    },
    "language_info": {
      "name": "python"
    }
  },
  "cells": [
    {
      "cell_type": "markdown",
      "metadata": {
        "id": "view-in-github",
        "colab_type": "text"
      },
      "source": [
        "<a href=\"https://colab.research.google.com/github/Dinesh-Adhithya-H/Deep_Learning_using_Tensorflow/blob/main/Broadcasting%2C_operator_overloading_and_Numpy_compatibility.ipynb\" target=\"_parent\"><img src=\"https://colab.research.google.com/assets/colab-badge.svg\" alt=\"Open In Colab\"/></a>"
      ]
    },
    {
      "cell_type": "code",
      "metadata": {
        "id": "ShI2xRWExosv"
      },
      "source": [
        "import numpy as np\n",
        "import tensorflow as tf"
      ],
      "execution_count": 1,
      "outputs": []
    },
    {
      "cell_type": "code",
      "metadata": {
        "colab": {
          "base_uri": "https://localhost:8080/"
        },
        "id": "_T86p6s4yA3V",
        "outputId": "dc4c9f68-1068-4fe1-e1b8-98cfa0d2b9ee"
      },
      "source": [
        "x=2\n",
        "x_sqr=tf.square(x)\n",
        "print(x_sqr)"
      ],
      "execution_count": 3,
      "outputs": [
        {
          "output_type": "stream",
          "text": [
            "tf.Tensor(4, shape=(), dtype=int32)\n"
          ],
          "name": "stdout"
        }
      ]
    },
    {
      "cell_type": "code",
      "metadata": {
        "colab": {
          "base_uri": "https://localhost:8080/"
        },
        "id": "_pHLetqRytET",
        "outputId": "d3d131c1-857b-41b3-e4bf-207ba202f1de"
      },
      "source": [
        "a=tf.constant([[1,2],[3,4]])\n",
        "tf.add(a,[1,5])"
      ],
      "execution_count": 8,
      "outputs": [
        {
          "output_type": "execute_result",
          "data": {
            "text/plain": [
              "<tf.Tensor: shape=(2, 2), dtype=int32, numpy=\n",
              "array([[2, 7],\n",
              "       [4, 9]], dtype=int32)>"
            ]
          },
          "metadata": {
            "tags": []
          },
          "execution_count": 8
        }
      ]
    },
    {
      "cell_type": "code",
      "metadata": {
        "colab": {
          "base_uri": "https://localhost:8080/"
        },
        "id": "RcSPSg9lzEDV",
        "outputId": "3c9c6a10-846c-49bd-e70a-ae5dee0cdd7e"
      },
      "source": [
        "a**2"
      ],
      "execution_count": 9,
      "outputs": [
        {
          "output_type": "execute_result",
          "data": {
            "text/plain": [
              "<tf.Tensor: shape=(2, 2), dtype=int32, numpy=\n",
              "array([[ 1,  4],\n",
              "       [ 9, 16]], dtype=int32)>"
            ]
          },
          "metadata": {
            "tags": []
          },
          "execution_count": 9
        }
      ]
    },
    {
      "cell_type": "code",
      "metadata": {
        "id": "84PAtiqqzEnD"
      },
      "source": [
        "a=tf.constant(3)\n",
        "b=tf.constant(5)"
      ],
      "execution_count": 10,
      "outputs": []
    },
    {
      "cell_type": "code",
      "metadata": {
        "colab": {
          "base_uri": "https://localhost:8080/"
        },
        "id": "DHI6BcEEzX-5",
        "outputId": "580534b8-eefb-4eba-c553-12985c37e288"
      },
      "source": [
        "np.multiply(a,b)"
      ],
      "execution_count": 11,
      "outputs": [
        {
          "output_type": "execute_result",
          "data": {
            "text/plain": [
              "15"
            ]
          },
          "metadata": {
            "tags": []
          },
          "execution_count": 11
        }
      ]
    },
    {
      "cell_type": "code",
      "metadata": {
        "id": "eOd8-T8qzaRe"
      },
      "source": [
        "nd=np.ones([3,3])"
      ],
      "execution_count": 12,
      "outputs": []
    },
    {
      "cell_type": "code",
      "metadata": {
        "id": "RRH_6HokzhzX"
      },
      "source": [
        "tensor=tf.multiply(nd,3)"
      ],
      "execution_count": 14,
      "outputs": []
    },
    {
      "cell_type": "code",
      "metadata": {
        "colab": {
          "base_uri": "https://localhost:8080/"
        },
        "id": "cZ_gjQqeznNx",
        "outputId": "e32ac46b-9b86-49f3-a51f-76805dedafea"
      },
      "source": [
        "tensor.numpy()"
      ],
      "execution_count": 15,
      "outputs": [
        {
          "output_type": "execute_result",
          "data": {
            "text/plain": [
              "array([[3., 3., 3.],\n",
              "       [3., 3., 3.],\n",
              "       [3., 3., 3.]])"
            ]
          },
          "metadata": {
            "tags": []
          },
          "execution_count": 15
        }
      ]
    },
    {
      "cell_type": "code",
      "metadata": {
        "id": "VteDfkEczsPh"
      },
      "source": [
        "v=tf.Variable(0.0)"
      ],
      "execution_count": 16,
      "outputs": []
    },
    {
      "cell_type": "code",
      "metadata": {
        "colab": {
          "base_uri": "https://localhost:8080/"
        },
        "id": "sjDT0R8P0Y59",
        "outputId": "516cd78e-253e-4aa2-c939-d28e047c251b"
      },
      "source": [
        "v"
      ],
      "execution_count": 17,
      "outputs": [
        {
          "output_type": "execute_result",
          "data": {
            "text/plain": [
              "<tf.Variable 'Variable:0' shape=() dtype=float32, numpy=0.0>"
            ]
          },
          "metadata": {
            "tags": []
          },
          "execution_count": 17
        }
      ]
    },
    {
      "cell_type": "code",
      "metadata": {
        "colab": {
          "base_uri": "https://localhost:8080/"
        },
        "id": "jszGna-H0Zib",
        "outputId": "fcfa3560-34f6-4865-dee0-d7f2f662ec72"
      },
      "source": [
        "v+1"
      ],
      "execution_count": 18,
      "outputs": [
        {
          "output_type": "execute_result",
          "data": {
            "text/plain": [
              "<tf.Tensor: shape=(), dtype=float32, numpy=1.0>"
            ]
          },
          "metadata": {
            "tags": []
          },
          "execution_count": 18
        }
      ]
    },
    {
      "cell_type": "code",
      "metadata": {
        "colab": {
          "base_uri": "https://localhost:8080/"
        },
        "id": "yQMV2LyF0aB6",
        "outputId": "336ab58c-450a-4aa3-a132-17aa31ab7921"
      },
      "source": [
        "v*5"
      ],
      "execution_count": 19,
      "outputs": [
        {
          "output_type": "execute_result",
          "data": {
            "text/plain": [
              "<tf.Tensor: shape=(), dtype=float32, numpy=0.0>"
            ]
          },
          "metadata": {
            "tags": []
          },
          "execution_count": 19
        }
      ]
    },
    {
      "cell_type": "code",
      "metadata": {
        "colab": {
          "base_uri": "https://localhost:8080/"
        },
        "id": "EL049wzz0am7",
        "outputId": "1198adbf-b363-4171-a72f-d03df9df9927"
      },
      "source": [
        "v.assign_add(5)"
      ],
      "execution_count": 20,
      "outputs": [
        {
          "output_type": "execute_result",
          "data": {
            "text/plain": [
              "<tf.Variable 'UnreadVariable' shape=() dtype=float32, numpy=5.0>"
            ]
          },
          "metadata": {
            "tags": []
          },
          "execution_count": 20
        }
      ]
    },
    {
      "cell_type": "code",
      "metadata": {
        "colab": {
          "base_uri": "https://localhost:8080/"
        },
        "id": "iQlrQskz0egi",
        "outputId": "6a5abc7d-1cd4-41db-c984-f6b650cafb67"
      },
      "source": [
        "v.read_value().numpy()"
      ],
      "execution_count": 22,
      "outputs": [
        {
          "output_type": "execute_result",
          "data": {
            "text/plain": [
              "5.0"
            ]
          },
          "metadata": {
            "tags": []
          },
          "execution_count": 22
        }
      ]
    },
    {
      "cell_type": "code",
      "metadata": {
        "id": "fkvwnCtb0hOq"
      },
      "source": [
        "class mylayer(tf.keras.layers.Layer):\n",
        "  def __init__(self):\n",
        "    super(mylayer,self).__init__()\n",
        "    self.var1=tf.Variable(100)\n",
        "    self.var2=[tf.Variable(x) for x in range(2)]"
      ],
      "execution_count": 23,
      "outputs": []
    },
    {
      "cell_type": "code",
      "metadata": {
        "colab": {
          "base_uri": "https://localhost:8080/"
        },
        "id": "Zk-SjU_-1Mik",
        "outputId": "8161d65a-c393-4a2a-cc0b-9c4cbbc3262f"
      },
      "source": [
        "m=mylayer()\n",
        "[variable.numpy() for variable in m.variables]"
      ],
      "execution_count": 24,
      "outputs": [
        {
          "output_type": "execute_result",
          "data": {
            "text/plain": [
              "[100, 0, 1]"
            ]
          },
          "metadata": {
            "tags": []
          },
          "execution_count": 24
        }
      ]
    },
    {
      "cell_type": "code",
      "metadata": {
        "id": "tRlZQB301VrJ"
      },
      "source": [
        "tensor=tf.constant([1,2,3])"
      ],
      "execution_count": 31,
      "outputs": []
    },
    {
      "cell_type": "code",
      "metadata": {
        "colab": {
          "base_uri": "https://localhost:8080/"
        },
        "id": "0LOrNhWk16Ii",
        "outputId": "d87a0a72-2562-48a2-e5bf-b2f7b742ccf9"
      },
      "source": [
        "tensor"
      ],
      "execution_count": 32,
      "outputs": [
        {
          "output_type": "execute_result",
          "data": {
            "text/plain": [
              "<tf.Tensor: shape=(3,), dtype=int32, numpy=array([1, 2, 3], dtype=int32)>"
            ]
          },
          "metadata": {
            "tags": []
          },
          "execution_count": 32
        }
      ]
    },
    {
      "cell_type": "code",
      "metadata": {
        "id": "33pLOq6i2Rqi"
      },
      "source": [
        "tensor=tf.cast(tensor,dtype=tf.float32)"
      ],
      "execution_count": 33,
      "outputs": []
    },
    {
      "cell_type": "code",
      "metadata": {
        "colab": {
          "base_uri": "https://localhost:8080/"
        },
        "id": "g3GnIDcN2XNV",
        "outputId": "c09b7db2-581d-477c-e4a2-410f0d9632e0"
      },
      "source": [
        "tensor"
      ],
      "execution_count": 34,
      "outputs": [
        {
          "output_type": "execute_result",
          "data": {
            "text/plain": [
              "<tf.Tensor: shape=(3,), dtype=float32, numpy=array([1., 2., 3.], dtype=float32)>"
            ]
          },
          "metadata": {
            "tags": []
          },
          "execution_count": 34
        }
      ]
    },
    {
      "cell_type": "code",
      "metadata": {
        "id": "W3DrVqSV2YjI"
      },
      "source": [
        ""
      ],
      "execution_count": null,
      "outputs": []
    }
  ]
}