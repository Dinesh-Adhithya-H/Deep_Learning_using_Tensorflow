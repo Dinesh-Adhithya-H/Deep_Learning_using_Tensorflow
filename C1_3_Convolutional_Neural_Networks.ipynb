{
  "nbformat": 4,
  "nbformat_minor": 0,
  "metadata": {
    "colab": {
      "name": "C1_3_Convolutional_Neural_Networks.ipynb",
      "provenance": []
    },
    "kernelspec": {
      "name": "python3",
      "display_name": "Python 3"
    }
  },
  "cells": [
    {
      "cell_type": "code",
      "metadata": {
        "colab": {
          "base_uri": "https://localhost:8080/"
        },
        "id": "kdQefzh9S965",
        "outputId": "6d94bb15-d5bb-43bf-a5a7-e667a7412995"
      },
      "source": [
        "import tensorflow as tf\r\n",
        "print(tf.__version__)"
      ],
      "execution_count": 3,
      "outputs": [
        {
          "output_type": "stream",
          "text": [
            "2.4.0\n"
          ],
          "name": "stdout"
        }
      ]
    },
    {
      "cell_type": "code",
      "metadata": {
        "colab": {
          "base_uri": "https://localhost:8080/"
        },
        "id": "8fqfLM8lZ6nZ",
        "outputId": "f7acaa83-939b-4e0b-904a-aec232bb3d1b"
      },
      "source": [
        "mnist=tf.keras.datasets.fashion_mnist\r\n",
        "(training_images,training_labels),(test_images,test_labels)=mnist.load_data()\r\n",
        "training_images=training_images.reshape(60000, 28, 28, 1)\r\n",
        "test_images = test_images.reshape(10000, 28, 28, 1)\r\n",
        "training_images=training_images/255.0\r\n",
        "testing_images=testing_images/255.0\r\n",
        "model=tf.keras.models.Sequential([\r\n",
        "  tf.keras.layers.Conv2D(64,(3,3),activation=\"relu\",input_shape=(28,28,1)),\r\n",
        "  tf.keras.layers.MaxPooling2D(2,2),\r\n",
        "  tf.keras.layers.Conv2D(64,(3,3),activation=\"relu\"),\r\n",
        "  tf.keras.layers.MaxPooling2D(2,2),\r\n",
        "  tf.keras.layers.Flatten(),\r\n",
        "  tf.keras.layers.Dense(128,activation=\"relu\"),\r\n",
        "  tf.keras.layers.Dense(10,activation=\"softmax\")\r\n",
        "])\r\n",
        "model.compile(optimizer=\"adam\",loss=\"sparse_categorical_crossentropy\",metrics=[\"accuracy\"])\r\n",
        "model.summary()\r\n",
        "model.fit(training_images,training_labels,epochs=5)\r\n",
        "test_loss=model.evaluate(test_images,test_labels)"
      ],
      "execution_count": 5,
      "outputs": [
        {
          "output_type": "stream",
          "text": [
            "Model: \"sequential\"\n",
            "_________________________________________________________________\n",
            "Layer (type)                 Output Shape              Param #   \n",
            "=================================================================\n",
            "conv2d (Conv2D)              (None, 26, 26, 64)        640       \n",
            "_________________________________________________________________\n",
            "max_pooling2d (MaxPooling2D) (None, 13, 13, 64)        0         \n",
            "_________________________________________________________________\n",
            "conv2d_1 (Conv2D)            (None, 11, 11, 64)        36928     \n",
            "_________________________________________________________________\n",
            "max_pooling2d_1 (MaxPooling2 (None, 5, 5, 64)          0         \n",
            "_________________________________________________________________\n",
            "flatten (Flatten)            (None, 1600)              0         \n",
            "_________________________________________________________________\n",
            "dense (Dense)                (None, 128)               204928    \n",
            "_________________________________________________________________\n",
            "dense_1 (Dense)              (None, 10)                1290      \n",
            "=================================================================\n",
            "Total params: 243,786\n",
            "Trainable params: 243,786\n",
            "Non-trainable params: 0\n",
            "_________________________________________________________________\n",
            "Epoch 1/5\n",
            "1875/1875 [==============================] - 78s 41ms/step - loss: 0.6059 - accuracy: 0.7793\n",
            "Epoch 2/5\n",
            "1875/1875 [==============================] - 76s 41ms/step - loss: 0.3013 - accuracy: 0.8880\n",
            "Epoch 3/5\n",
            "1875/1875 [==============================] - 76s 41ms/step - loss: 0.2529 - accuracy: 0.9068\n",
            "Epoch 4/5\n",
            "1875/1875 [==============================] - 76s 40ms/step - loss: 0.2196 - accuracy: 0.9166\n",
            "Epoch 5/5\n",
            "1875/1875 [==============================] - 76s 40ms/step - loss: 0.1941 - accuracy: 0.9272\n",
            "313/313 [==============================] - 3s 11ms/step - loss: 51.5599 - accuracy: 0.8464\n"
          ],
          "name": "stdout"
        }
      ]
    },
    {
      "cell_type": "code",
      "metadata": {
        "colab": {
          "base_uri": "https://localhost:8080/"
        },
        "id": "hZQSDW7zfAi2",
        "outputId": "e2eaf78e-8dd9-471d-eaa8-8b79e7bcd967"
      },
      "source": [
        "print(test_labels[:100])"
      ],
      "execution_count": 6,
      "outputs": [
        {
          "output_type": "stream",
          "text": [
            "[9 2 1 1 6 1 4 6 5 7 4 5 7 3 4 1 2 4 8 0 2 5 7 9 1 4 6 0 9 3 8 8 3 3 8 0 7\n",
            " 5 7 9 6 1 3 7 6 7 2 1 2 2 4 4 5 8 2 2 8 4 8 0 7 7 8 5 1 1 2 3 9 8 7 0 2 6\n",
            " 2 3 1 2 8 4 1 8 5 9 5 0 3 2 0 6 5 3 6 7 1 8 0 1 4 2]\n"
          ],
          "name": "stdout"
        }
      ]
    },
    {
      "cell_type": "code",
      "metadata": {
        "colab": {
          "base_uri": "https://localhost:8080/",
          "height": 268
        },
        "id": "__MyoH52iBda",
        "outputId": "498b9aab-5ded-444a-a9a0-58fd882cef41"
      },
      "source": [
        "import matplotlib.pyplot as plt\r\n",
        "f,axs=plt.subplots(3,4)\r\n",
        "convolution_number=1\r\n",
        "from tensorflow.keras import models\r\n",
        "layer_output=[layer.output for layer in model.layers]\r\n",
        "activation_model=tf.keras.models.Model(inputs=model.input,outputs=layer_output)\r\n",
        "for x in range(0,4):\r\n",
        "  f1=activation_model.predict(test_images[0].reshape(1,28,28,1))[x]\r\n",
        "  axs[0,x].imshow(f1[0,:,:,convolution_number],cmap=\"inferno\")\r\n",
        "  axs[0,x].grid(False)\r\n",
        "  f2=activation_model.predict(test_images[7].reshape(1,28,28,1))[x]\r\n",
        "  axs[1,x].imshow(f1[0,:,:,convolution_number],cmap=\"inferno\")\r\n",
        "  axs[1,x].grid(False)\r\n",
        "  f3=activation_model.predict(test_images[26].reshape(1,28,28,1))[x]\r\n",
        "  axs[2,x].imshow(f1[0,:,:,convolution_number],cmap=\"inferno\")\r\n",
        "  axs[2,x].grid(False)"
      ],
      "execution_count": 11,
      "outputs": [
        {
          "output_type": "display_data",
          "data": {
            "image/png": "[encoded data removed]",
            "text/plain": [
              "<Figure size 432x288 with 12 Axes>"
            ]
          },
          "metadata": {
            "tags": [],
            "needs_background": "light"
          }
        }
      ]
    },
    {
      "cell_type": "code",
      "metadata": {
        "colab": {
          "base_uri": "https://localhost:8080/"
        },
        "id": "rP8Xmi1mnj81",
        "outputId": "87d4d092-bf0e-4f48-e943-a2f5be7fee03"
      },
      "source": [
        "model1=tf.keras.models.Sequential([\r\n",
        "  tf.keras.layers.Conv2D(64,(3,3),activation=\"relu\",input_shape=(28,28,1)),\r\n",
        "  tf.keras.layers.MaxPooling2D(2,2),\r\n",
        "  tf.keras.layers.Flatten(),\r\n",
        "  tf.keras.layers.Dense(128,activation=\"relu\"),\r\n",
        "  tf.keras.layers.Dense(10,activation=\"softmax\")\r\n",
        "])\r\n",
        "model1.compile(optimizer=\"adam\",loss=\"sparse_categorical_crossentropy\",metrics=[\"accuracy\"])\r\n",
        "model1.summary()\r\n",
        "model1.fit(training_images,training_labels,epochs=5)\r\n",
        "test_loss=model1.evaluate(test_images,test_labels)"
      ],
      "execution_count": 12,
      "outputs": [
        {
          "output_type": "stream",
          "text": [
            "Model: \"sequential_1\"\n",
            "_________________________________________________________________\n",
            "Layer (type)                 Output Shape              Param #   \n",
            "=================================================================\n",
            "conv2d_2 (Conv2D)            (None, 26, 26, 64)        640       \n",
            "_________________________________________________________________\n",
            "max_pooling2d_2 (MaxPooling2 (None, 13, 13, 64)        0         \n",
            "_________________________________________________________________\n",
            "flatten_1 (Flatten)          (None, 10816)             0         \n",
            "_________________________________________________________________\n",
            "dense_2 (Dense)              (None, 128)               1384576   \n",
            "_________________________________________________________________\n",
            "dense_3 (Dense)              (None, 10)                1290      \n",
            "=================================================================\n",
            "Total params: 1,386,506\n",
            "Trainable params: 1,386,506\n",
            "Non-trainable params: 0\n",
            "_________________________________________________________________\n",
            "Epoch 1/5\n",
            "1875/1875 [==============================] - 57s 30ms/step - loss: 0.5030 - accuracy: 0.8227\n",
            "Epoch 2/5\n",
            "1875/1875 [==============================] - 57s 30ms/step - loss: 0.2554 - accuracy: 0.9074\n",
            "Epoch 3/5\n",
            "1875/1875 [==============================] - 56s 30ms/step - loss: 0.2053 - accuracy: 0.9236\n",
            "Epoch 4/5\n",
            "1875/1875 [==============================] - 56s 30ms/step - loss: 0.1677 - accuracy: 0.9375\n",
            "Epoch 5/5\n",
            "1875/1875 [==============================] - 56s 30ms/step - loss: 0.1367 - accuracy: 0.9494\n",
            "313/313 [==============================] - 2s 7ms/step - loss: 45.9006 - accuracy: 0.8951\n"
          ],
          "name": "stdout"
        }
      ]
    },
    {
      "cell_type": "code",
      "metadata": {
        "id": "yIrWPV_ZpTlD"
      },
      "source": [
        ""
      ],
      "execution_count": null,
      "outputs": []
    }
  ]
}