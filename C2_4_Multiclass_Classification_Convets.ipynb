{
  "nbformat": 4,
  "nbformat_minor": 0,
  "metadata": {
    "colab": {
      "name": "C2_4_Multiclass_Classification_Convets.ipynb",
      "provenance": [],
      "authorship_tag": "ABX9TyMs09Ji89MX3ZHW9N/pTIJU",
      "include_colab_link": true
    },
    "kernelspec": {
      "name": "python3",
      "display_name": "Python 3"
    },
    "accelerator": "GPU"
  },
  "cells": [
    {
      "cell_type": "markdown",
      "metadata": {
        "id": "view-in-github",
        "colab_type": "text"
      },
      "source": [
        "<a href=\"https://colab.research.google.com/github/Dinesh-Adhithya-H/Deep_Learning_using_Tensorflow/blob/main/C2_4_Multiclass_Classification_Convets.ipynb\" target=\"_parent\"><img src=\"https://colab.research.google.com/assets/colab-badge.svg\" alt=\"Open In Colab\"/></a>"
      ]
    },
    {
      "cell_type": "code",
      "metadata": {
        "colab": {
          "base_uri": "https://localhost:8080/"
        },
        "id": "m8aDy3RKFcHg",
        "outputId": "c8abba95-0b3a-4bd4-a1f3-83cdbd6454bc"
      },
      "source": [
        "!wget --no-check-certificate \\\r\n",
        "    https://storage.googleapis.com/laurencemoroney-blog.appspot.com/rps.zip \\\r\n",
        "    -O /tmp/rps.zip\r\n",
        "  \r\n",
        "!wget --no-check-certificate \\\r\n",
        "    https://storage.googleapis.com/laurencemoroney-blog.appspot.com/rps-test-set.zip \\\r\n",
        "    -O /tmp/rps-test-set.zip"
      ],
      "execution_count": 1,
      "outputs": [
        {
          "output_type": "stream",
          "text": [
            "--2021-02-06 13:58:05--  https://storage.googleapis.com/laurencemoroney-blog.appspot.com/rps.zip\n",
            "Resolving storage.googleapis.com (storage.googleapis.com)... 74.125.142.128, 74.125.195.128, 172.253.117.128, ...\n",
            "Connecting to storage.googleapis.com (storage.googleapis.com)|74.125.142.128|:443... connected.\n",
            "HTTP request sent, awaiting response... 200 OK\n",
            "Length: 200682221 (191M) [application/zip]\n",
            "Saving to: ‘/tmp/rps.zip’\n",
            "\n",
            "/tmp/rps.zip        100%[===================>] 191.38M   134MB/s    in 1.4s    \n",
            "\n",
            "2021-02-06 13:58:06 (134 MB/s) - ‘/tmp/rps.zip’ saved [200682221/200682221]\n",
            "\n",
            "--2021-02-06 13:58:07--  https://storage.googleapis.com/laurencemoroney-blog.appspot.com/rps-test-set.zip\n",
            "Resolving storage.googleapis.com (storage.googleapis.com)... 74.125.20.128, 108.177.98.128, 74.125.142.128, ...\n",
            "Connecting to storage.googleapis.com (storage.googleapis.com)|74.125.20.128|:443... connected.\n",
            "HTTP request sent, awaiting response... 200 OK\n",
            "Length: 29516758 (28M) [application/zip]\n",
            "Saving to: ‘/tmp/rps-test-set.zip’\n",
            "\n",
            "/tmp/rps-test-set.z 100%[===================>]  28.15M  76.0MB/s    in 0.4s    \n",
            "\n",
            "2021-02-06 13:58:07 (76.0 MB/s) - ‘/tmp/rps-test-set.zip’ saved [29516758/29516758]\n",
            "\n"
          ],
          "name": "stdout"
        }
      ]
    },
    {
      "cell_type": "code",
      "metadata": {
        "id": "X_Xk_js2F0Fd"
      },
      "source": [
        "import os\r\n",
        "import zipfile\r\n",
        "\r\n",
        "local_zip=\"/tmp/rps.zip\"\r\n",
        "zip=zipfile.ZipFile(local_zip,\"r\")\r\n",
        "zip.extractall(\"/tmp\")\r\n",
        "zip.close()\r\n",
        "\r\n",
        "local_zip=\"/tmp/rps-test-set.zip\"\r\n",
        "zip=zipfile.ZipFile(local_zip,\"r\")\r\n",
        "zip.extractall(\"/tmp\")\r\n",
        "zip.close()"
      ],
      "execution_count": 2,
      "outputs": []
    },
    {
      "cell_type": "code",
      "metadata": {
        "id": "XWEKzO1XHYo4"
      },
      "source": [
        "rock_dir=\"/tmp/rps/rock\"\r\n",
        "paper_dir=\"/tmp/rps/paper\"\r\n",
        "scissors_dir=\"/tmp/rps/scissors\"\r\n",
        "\r\n",
        "rock_files=os.listdir(rock_dir)\r\n",
        "paper_files=os.listdir(paper_dir)\r\n",
        "scissors_files=os.listdir(scissors_dir)\r\n"
      ],
      "execution_count": 3,
      "outputs": []
    },
    {
      "cell_type": "code",
      "metadata": {
        "colab": {
          "base_uri": "https://localhost:8080/"
        },
        "id": "GGSulC04penz",
        "outputId": "c8613999-0eda-4f1c-811e-b47b21ea44c0"
      },
      "source": [
        "print(rock_files[:10],paper_files[:10],scissors_files[:10])"
      ],
      "execution_count": 4,
      "outputs": [
        {
          "output_type": "stream",
          "text": [
            "['rock01-118.png', 'rock01-061.png', 'rock03-103.png', 'rock07-k03-101.png', 'rock03-013.png', 'rock03-077.png', 'rock04-071.png', 'rock05ck01-118.png', 'rock07-k03-002.png', 'rock02-035.png'] ['paper07-048.png', 'paper02-017.png', 'paper06-108.png', 'paper02-032.png', 'paper03-113.png', 'paper04-014.png', 'paper04-119.png', 'paper01-088.png', 'paper06-067.png', 'paper04-037.png'] ['scissors03-084.png', 'testscissors01-028.png', 'scissors04-035.png', 'scissors04-054.png', 'scissors03-118.png', 'testscissors03-045.png', 'scissors04-076.png', 'testscissors02-010.png', 'testscissors03-034.png', 'scissors02-070.png']\n"
          ],
          "name": "stdout"
        }
      ]
    },
    {
      "cell_type": "code",
      "metadata": {
        "id": "5ljyuKpfPHLP"
      },
      "source": [
        "import tensorflow as tf\r\n",
        "model=tf.keras.Sequential([\r\n",
        "  tf.keras.layers.Conv2D(16,(3,3),activation=\"relu\",input_shape=(150,150,3)),\r\n",
        "  tf.keras.layers.MaxPooling2D(2,2),\r\n",
        "  tf.keras.layers.Conv2D(32,(3,3),activation=\"relu\"),\r\n",
        "  tf.keras.layers.MaxPooling2D(2,2),\r\n",
        "  tf.keras.layers.Conv2D(64,(3,3),activation=\"relu\"),\r\n",
        "  tf.keras.layers.MaxPooling2D(2,2),\r\n",
        "  tf.keras.layers.Flatten(),\r\n",
        "  tf.keras.layers.Dense(256,activation=\"relu\"),\r\n",
        "  tf.keras.layers.Dense(3,activation=\"softmax\")\r\n",
        "])"
      ],
      "execution_count": 5,
      "outputs": []
    },
    {
      "cell_type": "code",
      "metadata": {
        "colab": {
          "base_uri": "https://localhost:8080/"
        },
        "id": "EAnhotauTGK2",
        "outputId": "d4bbd384-bd79-4a93-a0ec-350a6004832c"
      },
      "source": [
        "model.summary()"
      ],
      "execution_count": 6,
      "outputs": [
        {
          "output_type": "stream",
          "text": [
            "Model: \"sequential\"\n",
            "_________________________________________________________________\n",
            "Layer (type)                 Output Shape              Param #   \n",
            "=================================================================\n",
            "conv2d (Conv2D)              (None, 148, 148, 16)      448       \n",
            "_________________________________________________________________\n",
            "max_pooling2d (MaxPooling2D) (None, 74, 74, 16)        0         \n",
            "_________________________________________________________________\n",
            "conv2d_1 (Conv2D)            (None, 72, 72, 32)        4640      \n",
            "_________________________________________________________________\n",
            "max_pooling2d_1 (MaxPooling2 (None, 36, 36, 32)        0         \n",
            "_________________________________________________________________\n",
            "conv2d_2 (Conv2D)            (None, 34, 34, 64)        18496     \n",
            "_________________________________________________________________\n",
            "max_pooling2d_2 (MaxPooling2 (None, 17, 17, 64)        0         \n",
            "_________________________________________________________________\n",
            "flatten (Flatten)            (None, 18496)             0         \n",
            "_________________________________________________________________\n",
            "dense (Dense)                (None, 256)               4735232   \n",
            "_________________________________________________________________\n",
            "dense_1 (Dense)              (None, 3)                 771       \n",
            "=================================================================\n",
            "Total params: 4,759,587\n",
            "Trainable params: 4,759,587\n",
            "Non-trainable params: 0\n",
            "_________________________________________________________________\n"
          ],
          "name": "stdout"
        }
      ]
    },
    {
      "cell_type": "code",
      "metadata": {
        "id": "SAC2v5oHTNBw"
      },
      "source": [
        "model.compile(optimizer=\"adam\",loss=\"categorical_crossentropy\",metrics=[\"accuracy\"])"
      ],
      "execution_count": 7,
      "outputs": []
    },
    {
      "cell_type": "code",
      "metadata": {
        "colab": {
          "base_uri": "https://localhost:8080/"
        },
        "id": "F2G4c1__WbD6",
        "outputId": "56ddbbe1-fdc7-462d-cc71-4300e5e775f5"
      },
      "source": [
        "from tensorflow.keras.preprocessing.image import ImageDataGenerator\r\n",
        "import keras_preprocessing\r\n",
        "from keras_preprocessing import image\r\n",
        "\r\n",
        "TRAINING_DIR = \"/tmp/rps/\"\r\n",
        "training_datagen = ImageDataGenerator(\r\n",
        "      rescale = 1./255,\r\n",
        "\t    rotation_range=40,\r\n",
        "      width_shift_range=0.2,\r\n",
        "      height_shift_range=0.2,\r\n",
        "      shear_range=0.2,\r\n",
        "      zoom_range=0.2,\r\n",
        "      horizontal_flip=True,\r\n",
        "      fill_mode='nearest')\r\n",
        "\r\n",
        "VALIDATION_DIR = \"/tmp/rps-test-set/\"\r\n",
        "validation_datagen = ImageDataGenerator(rescale = 1./255)\r\n",
        "\r\n",
        "train_generator = training_datagen.flow_from_directory(\r\n",
        "\tTRAINING_DIR,\r\n",
        "\ttarget_size=(150,150),\r\n",
        "\tclass_mode='categorical',\r\n",
        "  batch_size=126\r\n",
        ")\r\n",
        "\r\n",
        "validation_generator = validation_datagen.flow_from_directory(\r\n",
        "\tVALIDATION_DIR,\r\n",
        "\ttarget_size=(150,150),\r\n",
        "\tclass_mode='categorical',\r\n",
        "  batch_size=126\r\n",
        ")"
      ],
      "execution_count": 8,
      "outputs": [
        {
          "output_type": "stream",
          "text": [
            "Found 2520 images belonging to 3 classes.\n",
            "Found 372 images belonging to 3 classes.\n"
          ],
          "name": "stdout"
        }
      ]
    },
    {
      "cell_type": "code",
      "metadata": {
        "colab": {
          "base_uri": "https://localhost:8080/"
        },
        "id": "kfSgCNbiaQLx",
        "outputId": "374bed2a-00d1-453a-da3a-6a4df846c5e9"
      },
      "source": [
        "history=model.fit(train_generator,validation_data=validation_generator,steps_per_epoch=20,epochs=15,validation_steps=3,verbose=1)"
      ],
      "execution_count": 11,
      "outputs": [
        {
          "output_type": "stream",
          "text": [
            "Epoch 1/15\n",
            "20/20 [==============================] - 19s 950ms/step - loss: 0.3554 - accuracy: 0.8738 - val_loss: 0.2656 - val_accuracy: 0.8468\n",
            "Epoch 2/15\n",
            "20/20 [==============================] - 19s 958ms/step - loss: 0.3392 - accuracy: 0.8853 - val_loss: 0.1505 - val_accuracy: 0.9677\n",
            "Epoch 3/15\n",
            "20/20 [==============================] - 19s 948ms/step - loss: 0.2420 - accuracy: 0.9163 - val_loss: 0.1584 - val_accuracy: 0.9220\n",
            "Epoch 4/15\n",
            "20/20 [==============================] - 19s 946ms/step - loss: 0.2016 - accuracy: 0.9349 - val_loss: 0.1811 - val_accuracy: 0.9140\n",
            "Epoch 5/15\n",
            "20/20 [==============================] - 19s 953ms/step - loss: 0.1934 - accuracy: 0.9341 - val_loss: 0.1846 - val_accuracy: 0.9220\n",
            "Epoch 6/15\n",
            "20/20 [==============================] - 19s 950ms/step - loss: 0.1668 - accuracy: 0.9480 - val_loss: 0.2531 - val_accuracy: 0.8656\n",
            "Epoch 7/15\n",
            "20/20 [==============================] - 19s 950ms/step - loss: 0.1931 - accuracy: 0.9369 - val_loss: 0.2080 - val_accuracy: 0.8978\n",
            "Epoch 8/15\n",
            "20/20 [==============================] - 19s 945ms/step - loss: 0.1709 - accuracy: 0.9472 - val_loss: 0.1441 - val_accuracy: 0.9462\n",
            "Epoch 9/15\n",
            "20/20 [==============================] - 19s 957ms/step - loss: 0.1434 - accuracy: 0.9552 - val_loss: 0.1603 - val_accuracy: 0.9489\n",
            "Epoch 10/15\n",
            "20/20 [==============================] - 19s 950ms/step - loss: 0.1219 - accuracy: 0.9615 - val_loss: 0.4446 - val_accuracy: 0.8414\n",
            "Epoch 11/15\n",
            "20/20 [==============================] - 19s 951ms/step - loss: 0.1034 - accuracy: 0.9702 - val_loss: 0.4867 - val_accuracy: 0.8333\n",
            "Epoch 12/15\n",
            "20/20 [==============================] - 19s 948ms/step - loss: 0.0896 - accuracy: 0.9706 - val_loss: 0.5349 - val_accuracy: 0.8333\n",
            "Epoch 13/15\n",
            "20/20 [==============================] - 19s 943ms/step - loss: 0.0917 - accuracy: 0.9706 - val_loss: 0.4410 - val_accuracy: 0.8522\n",
            "Epoch 14/15\n",
            "20/20 [==============================] - 19s 945ms/step - loss: 0.1073 - accuracy: 0.9655 - val_loss: 0.2172 - val_accuracy: 0.9059\n",
            "Epoch 15/15\n",
            "20/20 [==============================] - 19s 951ms/step - loss: 0.1191 - accuracy: 0.9607 - val_loss: 0.5715 - val_accuracy: 0.8333\n"
          ],
          "name": "stdout"
        }
      ]
    },
    {
      "cell_type": "code",
      "metadata": {
        "colab": {
          "base_uri": "https://localhost:8080/",
          "height": 541
        },
        "id": "Ax4uK1-AbXOD",
        "outputId": "cbf7ce50-ef23-4983-efba-98cab6de4720"
      },
      "source": [
        "import matplotlib.pyplot as plt\r\n",
        "def plot_graphs(history, string):\r\n",
        "  plt.plot(history.history[string])\r\n",
        "  plt.plot(history.history['val_'+string])\r\n",
        "  plt.xlabel(\"Epochs\")\r\n",
        "  plt.ylabel(string)\r\n",
        "  plt.legend([string, 'val_'+string])\r\n",
        "  plt.show()\r\n",
        "  \r\n",
        "plot_graphs(history, \"accuracy\")\r\n",
        "plot_graphs(history, \"loss\")"
      ],
      "execution_count": 12,
      "outputs": [
        {
          "output_type": "display_data",
          "data": {
            "image/png": "[encoded data removed]",
            "text/plain": [
              "<Figure size 432x288 with 1 Axes>"
            ]
          },
          "metadata": {
            "tags": [],
            "needs_background": "light"
          }
        },
        {
          "output_type": "display_data",
          "data": {
            "image/png": "[encoded data removed]",
            "text/plain": [
              "<Figure size 432x288 with 1 Axes>"
            ]
          },
          "metadata": {
            "tags": [],
            "needs_background": "light"
          }
        }
      ]
    },
    {
      "cell_type": "code",
      "metadata": {
        "id": "rb2jpuposM-q"
      },
      "source": [
        ""
      ],
      "execution_count": null,
      "outputs": []
    }
  ]
}