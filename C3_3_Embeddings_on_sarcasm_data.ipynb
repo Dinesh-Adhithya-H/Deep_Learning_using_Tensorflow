{
  "nbformat": 4,
  "nbformat_minor": 0,
  "metadata": {
    "colab": {
      "name": "C3_3_Embeddings_on_sarcasm_data.ipynb",
      "provenance": [],
      "collapsed_sections": [],
      "authorship_tag": "ABX9TyP5BwvFeSYBHAT/4JMypNOi",
      "include_colab_link": true
    },
    "kernelspec": {
      "name": "python3",
      "display_name": "Python 3"
    },
    "accelerator": "GPU"
  },
  "cells": [
    {
      "cell_type": "markdown",
      "metadata": {
        "id": "view-in-github",
        "colab_type": "text"
      },
      "source": [
        "<a href=\"https://colab.research.google.com/github/Dinesh-Adhithya-H/Deep_Learning_using_Tensorflow/blob/main/C3_3_Embeddings_on_sarcasm_data.ipynb\" target=\"_parent\"><img src=\"https://colab.research.google.com/assets/colab-badge.svg\" alt=\"Open In Colab\"/></a>"
      ]
    },
    {
      "cell_type": "code",
      "metadata": {
        "id": "72qw_osHlsad"
      },
      "source": [
        "import tensorflow as tf"
      ],
      "execution_count": 1,
      "outputs": []
    },
    {
      "cell_type": "code",
      "metadata": {
        "id": "wv9svQ-FlwVA"
      },
      "source": [
        "import json\r\n",
        "from tensorflow.keras.preprocessing.text import Tokenizer\r\n",
        "from tensorflow.keras.preprocessing.sequence import pad_sequences"
      ],
      "execution_count": 2,
      "outputs": []
    },
    {
      "cell_type": "code",
      "metadata": {
        "id": "ADjelGNpmML5"
      },
      "source": [
        "vocab_size=10000\r\n",
        "embedding_dim=16\r\n",
        "max_length=100\r\n",
        "truc_type=\"post\"\r\n",
        "padding_type=\"post\"\r\n",
        "oov_tok=\"<OOV>\"\r\n",
        "training_size=2000"
      ],
      "execution_count": 3,
      "outputs": []
    },
    {
      "cell_type": "code",
      "metadata": {
        "colab": {
          "base_uri": "https://localhost:8080/"
        },
        "id": "NWANzrBumiT-",
        "outputId": "e691a6da-7ff7-4b34-834b-58c5469b13a9"
      },
      "source": [
        "!wget --no-check-certificate \\\r\n",
        "    https://storage.googleapis.com/laurencemoroney-blog.appspot.com/sarcasm.json \\\r\n",
        "    -O /tmp/sarcasm.json"
      ],
      "execution_count": 4,
      "outputs": [
        {
          "output_type": "stream",
          "text": [
            "--2021-01-10 09:22:53--  https://storage.googleapis.com/laurencemoroney-blog.appspot.com/sarcasm.json\n",
            "Resolving storage.googleapis.com (storage.googleapis.com)... 74.125.133.128, 74.125.140.128, 173.194.76.128, ...\n",
            "Connecting to storage.googleapis.com (storage.googleapis.com)|74.125.133.128|:443... connected.\n",
            "HTTP request sent, awaiting response... 200 OK\n",
            "Length: 5643545 (5.4M) [application/json]\n",
            "Saving to: ‘/tmp/sarcasm.json’\n",
            "\n",
            "/tmp/sarcasm.json   100%[===================>]   5.38M  --.-KB/s    in 0.06s   \n",
            "\n",
            "2021-01-10 09:22:54 (90.5 MB/s) - ‘/tmp/sarcasm.json’ saved [5643545/5643545]\n",
            "\n"
          ],
          "name": "stdout"
        }
      ]
    },
    {
      "cell_type": "code",
      "metadata": {
        "id": "j4gmexCImwCp"
      },
      "source": [
        "with open(\"/tmp/sarcasm.json\",\"r\") as f:\r\n",
        "  data=json.load(f)"
      ],
      "execution_count": 5,
      "outputs": []
    },
    {
      "cell_type": "code",
      "metadata": {
        "id": "tJKK0Q8YnBQC"
      },
      "source": [
        "sentences=[]\r\n",
        "labels=[]\r\n",
        "for i in data:\r\n",
        "  sentences.append(i[\"headline\"])\r\n",
        "  labels.append(i[\"is_sarcastic\"])"
      ],
      "execution_count": 20,
      "outputs": []
    },
    {
      "cell_type": "code",
      "metadata": {
        "id": "wND301ZLnMcP"
      },
      "source": [
        "training_sentences=sentences[0:training_size]\r\n",
        "testing_sentences=sentences[training_size:]\r\n",
        "training_labels=labels[0:training_size]\r\n",
        "testing_labels=labels[training_size:]"
      ],
      "execution_count": 31,
      "outputs": []
    },
    {
      "cell_type": "code",
      "metadata": {
        "id": "CSh1_CvOnuiW"
      },
      "source": [
        "tokenizer=Tokenizer(num_words=vocab_size,oov_token=oov_tok)\r\n",
        "tokenizer.fit_on_texts(training_sentences)\r\n",
        "word_index=tokenizer.word_index\r\n",
        "\r\n",
        "training_sequences=tokenizer.texts_to_sequences(training_sentences)\r\n",
        "training_pad=pad_sequences(training_sequences,maxlen=max_length,padding=padding_type,truncating=truc_type)\r\n",
        "\r\n",
        "testing_sequences=tokenizer.texts_to_sequences(testing_sentences)\r\n",
        "testing_pad=pad_sequences(testing_sequences,maxlen=max_length,padding=padding_type,truncating=truc_type)"
      ],
      "execution_count": 32,
      "outputs": []
    },
    {
      "cell_type": "code",
      "metadata": {
        "id": "jjH1A0i2vWu8"
      },
      "source": [
        "import numpy as np\r\n",
        "training_pad=np.array(training_pad)\r\n",
        "training_labels=np.array(training_labels)\r\n",
        "testing_pad=np.array(testing_pad)\r\n",
        "testing_labels=np.array(testing_labels)"
      ],
      "execution_count": 33,
      "outputs": []
    },
    {
      "cell_type": "code",
      "metadata": {
        "id": "Tx6tDkqvwyZL"
      },
      "source": [
        "model=tf.keras.Sequential([\r\n",
        "  tf.keras.layers.Embedding(vocab_size,embedding_dim,input_length=max_length),\r\n",
        "  tf.keras.layers.GlobalAveragePooling1D(),\r\n",
        "  tf.keras.layers.Dense(512,activation=\"relu\"),                        \r\n",
        "  tf.keras.layers.Dense(1,activation=\"relu\")\r\n",
        "])"
      ],
      "execution_count": 34,
      "outputs": []
    },
    {
      "cell_type": "code",
      "metadata": {
        "id": "ptB_dYF-y48p"
      },
      "source": [
        "model.compile(loss=\"binary_crossentropy\",optimizer=\"adam\",metrics=\"accuracy\")"
      ],
      "execution_count": 35,
      "outputs": []
    },
    {
      "cell_type": "code",
      "metadata": {
        "colab": {
          "base_uri": "https://localhost:8080/"
        },
        "id": "iVJg29mzzvad",
        "outputId": "34a3ed7d-b423-4266-998b-86aebf3e746b"
      },
      "source": [
        "model.summary()"
      ],
      "execution_count": 36,
      "outputs": [
        {
          "output_type": "stream",
          "text": [
            "Model: \"sequential_2\"\n",
            "_________________________________________________________________\n",
            "Layer (type)                 Output Shape              Param #   \n",
            "=================================================================\n",
            "embedding_2 (Embedding)      (None, 100, 16)           160000    \n",
            "_________________________________________________________________\n",
            "global_average_pooling1d_2 ( (None, 16)                0         \n",
            "_________________________________________________________________\n",
            "dense_4 (Dense)              (None, 512)               8704      \n",
            "_________________________________________________________________\n",
            "dense_5 (Dense)              (None, 1)                 513       \n",
            "=================================================================\n",
            "Total params: 169,217\n",
            "Trainable params: 169,217\n",
            "Non-trainable params: 0\n",
            "_________________________________________________________________\n"
          ],
          "name": "stdout"
        }
      ]
    },
    {
      "cell_type": "code",
      "metadata": {
        "colab": {
          "base_uri": "https://localhost:8080/"
        },
        "id": "cmJv5F62zyoo",
        "outputId": "892222d9-c643-4f26-eb64-77d146af7dfc"
      },
      "source": [
        "history=model.fit(training_pad,training_labels,epochs=5,validation_data=(testing_pad,testing_labels))"
      ],
      "execution_count": 37,
      "outputs": [
        {
          "output_type": "stream",
          "text": [
            "Epoch 1/5\n",
            "63/63 [==============================] - 5s 38ms/step - loss: 1.1106 - accuracy: 0.5508 - val_loss: 0.6842 - val_accuracy: 0.5613\n",
            "Epoch 2/5\n",
            "63/63 [==============================] - 2s 36ms/step - loss: 0.6795 - accuracy: 0.5647 - val_loss: 0.6802 - val_accuracy: 0.5613\n",
            "Epoch 3/5\n",
            "63/63 [==============================] - 2s 36ms/step - loss: 0.6753 - accuracy: 0.5497 - val_loss: 0.6744 - val_accuracy: 0.5613\n",
            "Epoch 4/5\n",
            "63/63 [==============================] - 2s 36ms/step - loss: 0.6587 - accuracy: 0.5882 - val_loss: 0.6654 - val_accuracy: 0.5613\n",
            "Epoch 5/5\n",
            "63/63 [==============================] - 2s 35ms/step - loss: 0.6467 - accuracy: 0.6063 - val_loss: 0.6466 - val_accuracy: 0.5621\n"
          ],
          "name": "stdout"
        }
      ]
    },
    {
      "cell_type": "code",
      "metadata": {
        "id": "2uWXYdb00j82"
      },
      "source": [
        "import matplotlib.pyplot as plt\r\n",
        "def plot_graphs(history,string):\r\n",
        "  plt.plot(history.history[string])\r\n",
        "  plt.plot(history.history[\"val_\"+string])\r\n",
        "  plt.xlabel(\"epochs\")\r\n",
        "  plt.ylabel(string)\r\n",
        "  plt.legend([string,\"val_\"+string])\r\n",
        "  plt.show()"
      ],
      "execution_count": 38,
      "outputs": []
    },
    {
      "cell_type": "code",
      "metadata": {
        "colab": {
          "base_uri": "https://localhost:8080/",
          "height": 279
        },
        "id": "wo8FQYMk4LB1",
        "outputId": "0df07ea3-d913-4db2-801f-75683513f9bd"
      },
      "source": [
        "plot_graphs(history,\"loss\")"
      ],
      "execution_count": 39,
      "outputs": [
        {
          "output_type": "display_data",
          "data": {
            "image/png": "[encoded data removed]",
            "text/plain": [
              "<Figure size 432x288 with 1 Axes>"
            ]
          },
          "metadata": {
            "tags": [],
            "needs_background": "light"
          }
        }
      ]
    },
    {
      "cell_type": "code",
      "metadata": {
        "colab": {
          "base_uri": "https://localhost:8080/",
          "height": 279
        },
        "id": "HnEpOC4F423O",
        "outputId": "4e967e74-1913-4a42-8d72-db371128555e"
      },
      "source": [
        "plot_graphs(history,\"accuracy\")"
      ],
      "execution_count": 41,
      "outputs": [
        {
          "output_type": "display_data",
          "data": {
            "image/png": "[encoded data removed]",
            "text/plain": [
              "<Figure size 432x288 with 1 Axes>"
            ]
          },
          "metadata": {
            "tags": [],
            "needs_background": "light"
          }
        }
      ]
    },
    {
      "cell_type": "code",
      "metadata": {
        "id": "wgvKeIFs49UG"
      },
      "source": [
        "reverse_word_index=dict([(v,k) for (k,v) in word_index.items()])"
      ],
      "execution_count": 51,
      "outputs": []
    },
    {
      "cell_type": "code",
      "metadata": {
        "id": "DVlTFRe36BPy"
      },
      "source": [
        "def decode_sequence(text):\r\n",
        "  return ' '.join([reverse_word_index.get(i, '?') for i in text])"
      ],
      "execution_count": 52,
      "outputs": []
    },
    {
      "cell_type": "code",
      "metadata": {
        "colab": {
          "base_uri": "https://localhost:8080/",
          "height": 34
        },
        "id": "8fSWvTzK7Gn-",
        "outputId": "93e18203-1a7d-42a0-9a2c-c894ac1c5e1c"
      },
      "source": [
        "decode_sequence([45,56,44])"
      ],
      "execution_count": 56,
      "outputs": [
        {
          "output_type": "execute_result",
          "data": {
            "application/vnd.google.colaboratory.intrinsic+json": {
              "type": "string"
            },
            "text/plain": [
              "'day now who'"
            ]
          },
          "metadata": {
            "tags": []
          },
          "execution_count": 56
        }
      ]
    },
    {
      "cell_type": "code",
      "metadata": {
        "colab": {
          "base_uri": "https://localhost:8080/"
        },
        "id": "m5dr-iwG7LXf",
        "outputId": "bed21dc0-e947-47b6-d21c-2a5285b4de25"
      },
      "source": [
        "print(decode_sequence(training_pad[0]))"
      ],
      "execution_count": 57,
      "outputs": [
        {
          "output_type": "stream",
          "text": [
            "former versace store clerk sues over secret 'black code' for minority shoppers ? ? ? ? ? ? ? ? ? ? ? ? ? ? ? ? ? ? ? ? ? ? ? ? ? ? ? ? ? ? ? ? ? ? ? ? ? ? ? ? ? ? ? ? ? ? ? ? ? ? ? ? ? ? ? ? ? ? ? ? ? ? ? ? ? ? ? ? ? ? ? ? ? ? ? ? ? ? ? ? ? ? ? ? ? ? ? ?\n"
          ],
          "name": "stdout"
        }
      ]
    },
    {
      "cell_type": "code",
      "metadata": {
        "colab": {
          "base_uri": "https://localhost:8080/"
        },
        "id": "bByRp0Ba7mDj",
        "outputId": "11fe14f6-b067-4647-a1e0-d166fd1a086a"
      },
      "source": [
        "print(training_sentences[0])"
      ],
      "execution_count": 59,
      "outputs": [
        {
          "output_type": "stream",
          "text": [
            "former versace store clerk sues over secret 'black code' for minority shoppers\n"
          ],
          "name": "stdout"
        }
      ]
    },
    {
      "cell_type": "code",
      "metadata": {
        "colab": {
          "base_uri": "https://localhost:8080/"
        },
        "id": "HeAMjJz27qmS",
        "outputId": "8580d67e-bbc3-4a20-e082-2507ba3da2b3"
      },
      "source": [
        "labels[0]"
      ],
      "execution_count": 60,
      "outputs": [
        {
          "output_type": "execute_result",
          "data": {
            "text/plain": [
              "0"
            ]
          },
          "metadata": {
            "tags": []
          },
          "execution_count": 60
        }
      ]
    },
    {
      "cell_type": "code",
      "metadata": {
        "colab": {
          "base_uri": "https://localhost:8080/"
        },
        "id": "rxl01rQl7tZZ",
        "outputId": "919f50c0-ce5d-443f-f88a-a1d904b31e39"
      },
      "source": [
        "e=model.layers[0]\r\n",
        "weights=e.get_weights()[0]\r\n",
        "print(weights.shape)"
      ],
      "execution_count": 61,
      "outputs": [
        {
          "output_type": "stream",
          "text": [
            "(10000, 16)\n"
          ],
          "name": "stdout"
        }
      ]
    },
    {
      "cell_type": "code",
      "metadata": {
        "id": "4xRGhK6N8y4E"
      },
      "source": [
        "import io\r\n",
        "\r\n",
        "out_v=io.open(\"vecs.tsv\",\"w\",encoding=\"utf-8\")\r\n",
        "out_m=io.open(\"meta.tsv\",\"w\",encoding=\"utf-8\")\r\n",
        "for word_num in range(1,6854):\r\n",
        "  word=reverse_word_index[word_num]\r\n",
        "  embeddings=weights[word_num]\r\n",
        "  out_m.write(word+\"\\n\")\r\n",
        "  out_v.write(\"\\t\".join([str(x) for x in embeddings])+\"\\n\")\r\n",
        "out_m.close()\r\n",
        "out_v.close()"
      ],
      "execution_count": 71,
      "outputs": []
    },
    {
      "cell_type": "code",
      "metadata": {
        "colab": {
          "base_uri": "https://localhost:8080/",
          "height": 17
        },
        "id": "IYMB772Q9mfo",
        "outputId": "b9a35c61-c35a-4330-bb11-b1b6592b4e6a"
      },
      "source": [
        "try:\r\n",
        "  from google.colab import files\r\n",
        "except ImportError:\r\n",
        "  pass\r\n",
        "else:\r\n",
        "  files.download('vecs.tsv')\r\n",
        "  files.download('meta.tsv')"
      ],
      "execution_count": 72,
      "outputs": [
        {
          "output_type": "display_data",
          "data": {
            "application/javascript": [
              "\n",
              "    async function download(id, filename, size) {\n",
              "      if (!google.colab.kernel.accessAllowed) {\n",
              "        return;\n",
              "      }\n",
              "      const div = document.createElement('div');\n",
              "      const label = document.createElement('label');\n",
              "      label.textContent = `Downloading \"${filename}\": `;\n",
              "      div.appendChild(label);\n",
              "      const progress = document.createElement('progress');\n",
              "      progress.max = size;\n",
              "      div.appendChild(progress);\n",
              "      document.body.appendChild(div);\n",
              "\n",
              "      const buffers = [];\n",
              "      let downloaded = 0;\n",
              "\n",
              "      const channel = await google.colab.kernel.comms.open(id);\n",
              "      // Send a message to notify the kernel that we're ready.\n",
              "      channel.send({})\n",
              "\n",
              "      for await (const message of channel.messages) {\n",
              "        // Send a message to notify the kernel that we're ready.\n",
              "        channel.send({})\n",
              "        if (message.buffers) {\n",
              "          for (const buffer of message.buffers) {\n",
              "            buffers.push(buffer);\n",
              "            downloaded += buffer.byteLength;\n",
              "            progress.value = downloaded;\n",
              "          }\n",
              "        }\n",
              "      }\n",
              "      const blob = new Blob(buffers, {type: 'application/binary'});\n",
              "      const a = document.createElement('a');\n",
              "      a.href = window.URL.createObjectURL(blob);\n",
              "      a.download = filename;\n",
              "      div.appendChild(a);\n",
              "      a.click();\n",
              "      div.remove();\n",
              "    }\n",
              "  "
            ],
            "text/plain": [
              "<IPython.core.display.Javascript object>"
            ]
          },
          "metadata": {
            "tags": []
          }
        },
        {
          "output_type": "display_data",
          "data": {
            "application/javascript": [
              "download(\"download_02f1ed7f-9140-46af-a959-bd74a8ba9903\", \"vecs.tsv\", 1336222)"
            ],
            "text/plain": [
              "<IPython.core.display.Javascript object>"
            ]
          },
          "metadata": {
            "tags": []
          }
        },
        {
          "output_type": "display_data",
          "data": {
            "application/javascript": [
              "\n",
              "    async function download(id, filename, size) {\n",
              "      if (!google.colab.kernel.accessAllowed) {\n",
              "        return;\n",
              "      }\n",
              "      const div = document.createElement('div');\n",
              "      const label = document.createElement('label');\n",
              "      label.textContent = `Downloading \"${filename}\": `;\n",
              "      div.appendChild(label);\n",
              "      const progress = document.createElement('progress');\n",
              "      progress.max = size;\n",
              "      div.appendChild(progress);\n",
              "      document.body.appendChild(div);\n",
              "\n",
              "      const buffers = [];\n",
              "      let downloaded = 0;\n",
              "\n",
              "      const channel = await google.colab.kernel.comms.open(id);\n",
              "      // Send a message to notify the kernel that we're ready.\n",
              "      channel.send({})\n",
              "\n",
              "      for await (const message of channel.messages) {\n",
              "        // Send a message to notify the kernel that we're ready.\n",
              "        channel.send({})\n",
              "        if (message.buffers) {\n",
              "          for (const buffer of message.buffers) {\n",
              "            buffers.push(buffer);\n",
              "            downloaded += buffer.byteLength;\n",
              "            progress.value = downloaded;\n",
              "          }\n",
              "        }\n",
              "      }\n",
              "      const blob = new Blob(buffers, {type: 'application/binary'});\n",
              "      const a = document.createElement('a');\n",
              "      a.href = window.URL.createObjectURL(blob);\n",
              "      a.download = filename;\n",
              "      div.appendChild(a);\n",
              "      a.click();\n",
              "      div.remove();\n",
              "    }\n",
              "  "
            ],
            "text/plain": [
              "<IPython.core.display.Javascript object>"
            ]
          },
          "metadata": {
            "tags": []
          }
        },
        {
          "output_type": "display_data",
          "data": {
            "application/javascript": [
              "download(\"download_21b3dbef-dffa-4869-94c5-d7d64253e416\", \"meta.tsv\", 52072)"
            ],
            "text/plain": [
              "<IPython.core.display.Javascript object>"
            ]
          },
          "metadata": {
            "tags": []
          }
        }
      ]
    },
    {
      "cell_type": "code",
      "metadata": {
        "id": "8La2wLvi-Fpu"
      },
      "source": [
        ""
      ],
      "execution_count": null,
      "outputs": []
    }
  ]
}