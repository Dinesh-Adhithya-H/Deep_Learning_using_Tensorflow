{
 "cells": [
  {
   "cell_type": "code",
   "execution_count": 167,
   "metadata": {
    "id": "dGFPCSHIVVmN"
   },
   "outputs": [],
   "source": [
    "import scipy\n",
    "from itertools import repeat\n",
    "import torch\n",
    "from torchvision import transforms\n",
    "from torchvision.datasets import ImageFolder"
   ]
  },
  {
   "cell_type": "code",
   "execution_count": 168,
   "metadata": {
    "id": "X8j_Rb-LVqX9"
   },
   "outputs": [],
   "source": [
    "def repeater(loader):\n",
    "    for loader in repeat(loader):\n",
    "        for data in loader:\n",
    "            yield data\n",
    "\n",
    "\n",
    "def dataloader(data, batch_size, num_workers):\n",
    "    transform = transforms.Compose([\n",
    "        transforms.RandomHorizontalFlip(),\n",
    "        transforms.CenterCrop((128, 128)),\n",
    "        transforms.ToTensor(),\n",
    "        transforms.Normalize((0.5, 0.5, 0.5), (0.5, 0.5, 0.5)),\n",
    "        ])\n",
    "    \n",
    "    data=torchvision.datasets.CIFAR100(\"content/\",train=True,download=True,transform=transform)\n",
    "    return repeater(\n",
    "            torch.utils.data.DataLoader(\n",
    "                data, batch_size=batch_size, num_workers=1,\n",
    "                shuffle=True, drop_last=True, pin_memory=True))\n",
    "\n",
    "\n",
    "def get_data(batch_size, num_workers):\n",
    "\n",
    "    transform = transforms.Compose([\n",
    "        transforms.RandomHorizontalFlip(),\n",
    "        transforms.CenterCrop((128, 128)),\n",
    "        transforms.ToTensor(),\n",
    "        transforms.Normalize((0.5, 0.5, 0.5), (0.5, 0.5, 0.5)),\n",
    "        ])\n",
    "\n",
    "    data=torchvision.datasets.CIFAR100(\"content/\",train=True,download=True,transform=transform)\n",
    "    \n",
    "    transform = transforms.Compose([\n",
    "        transforms.RandomHorizontalFlip(),\n",
    "        transforms.CenterCrop((128, 128)),\n",
    "        transforms.ToTensor(),\n",
    "        transforms.Normalize((0.5, 0.5, 0.5), (0.5, 0.5, 0.5)),\n",
    "        ])\n",
    "\n",
    "    return torch.utils.data.DataLoader(\n",
    "                data, batch_size=batch_size, num_workers=1,\n",
    "                shuffle=True, drop_last=True, pin_memory=True)\n",
    "\n",
    "\n",
    "class Wrap(object):\n",
    "    def __init__(self, data, batch_size, samples, num_workers):\n",
    "        self.data = dataloader(data, batch_size, num_workers)\n",
    "        self.samples = samples\n",
    "\n",
    "    def __iter__(self):\n",
    "        for i in range(self.samples):\n",
    "            yield next(self.data)\n",
    "\n",
    "    def __len__(self):\n",
    "        return self.samples"
   ]
  },
  {
   "cell_type": "code",
   "execution_count": 169,
   "metadata": {
    "id": "3_VDqNsfVtA5"
   },
   "outputs": [],
   "source": [
    "import numpy as np\n",
    "import scipy\n",
    "import torch\n",
    "import torch.nn as nn\n",
    "import torch.nn.functional as F\n",
    "\n",
    "from torchvision.models.inception import inception_v3\n",
    "import torchvision\n",
    "\n",
    "from  scipy.linalg import sqrtm as sqrtmfunction\n",
    "\n",
    "INCEPTION_POOL3_DIM = 2048\n",
    "EPS = 1e-6\n",
    "\n",
    "cache = {'initialized': False}\n",
    "\n",
    "\n",
    "class Normalize(nn.Module):\n",
    "    def forward(self, x):\n",
    "        return (x - 0.5) * 2.0\n",
    "\n",
    "\n",
    "class Inception3Pool3(nn.Module):\n",
    "    \"\"\"\n",
    "    Modified version from -\n",
    "    https://github.com/pytorch/vision/blob/master/torchvision/models/inception.py.\n",
    "    \"\"\"\n",
    "    def __init__(self):\n",
    "        super().__init__()\n",
    "\n",
    "        self.model = inception_v3(pretrained=True, transform_input=False)\n",
    "\n",
    "    @torch.no_grad()\n",
    "    def forward(self, img):\n",
    "        # 299 x 299 x 3\n",
    "        x = self.model.Conv2d_1a_3x3(img)\n",
    "        x = self.model.Conv2d_2a_3x3(x)\n",
    "        x = self.model.Conv2d_2b_3x3(x)\n",
    "        x = F.max_pool2d(x, kernel_size=3, stride=2)\n",
    "        x = self.model.Conv2d_3b_1x1(x)\n",
    "        x = self.model.Conv2d_4a_3x3(x)\n",
    "        x = F.max_pool2d(x, kernel_size=3, stride=2)\n",
    "        x = self.model.Mixed_5b(x)\n",
    "        x = self.model.Mixed_5c(x)\n",
    "        x = self.model.Mixed_5d(x)\n",
    "        x = self.model.Mixed_6a(x)\n",
    "        x = self.model.Mixed_6b(x)\n",
    "        x = self.model.Mixed_6c(x)\n",
    "        x = self.model.Mixed_6d(x)\n",
    "        x = self.model.Mixed_6e(x)\n",
    "        x = self.model.Mixed_7a(x)\n",
    "        x = self.model.Mixed_7b(x)\n",
    "        x = self.model.Mixed_7c(x)\n",
    "        x = F.adaptive_avg_pool2d(x, (1, 1))\n",
    "        # 1 x 1 x 2048\n",
    "\n",
    "        return x.squeeze()\n",
    "\n",
    "\n",
    "def upsample_inception3_pool3(size=(299, 299)):\n",
    "    return torch.nn.Sequential(\n",
    "            Normalize(),\n",
    "            nn.Upsample(size=size, mode='bilinear', align_corners=True),\n",
    "            Inception3Pool3()).eval()\n",
    "\n",
    "\n",
    "def get_mu_sigma(network, image_generator, n, device):\n",
    "    features = list()\n",
    "\n",
    "    while len(features) < n:\n",
    "        x = next(image_generator).to(device)\n",
    "        phi = network(x).detach().cpu().numpy()\n",
    "\n",
    "        features.extend(phi)\n",
    "\n",
    "    return np.mean(features, axis=0), np.cov(features, rowvar=False)\n",
    "\n",
    "\n",
    "def frechet_distance(mu_1, sigma_1, mu_2, sigma_2):\n",
    "    eps_matrix = EPS * np.eye(INCEPTION_POOL3_DIM)\n",
    "    sqrtm = sqrtmfunction(np.dot(sigma_1, sigma_2) + eps_matrix)\n",
    "\n",
    "    lhs = np.linalg.norm(mu_1 - mu_2, 2)\n",
    "    rhs = np.trace(sigma_1 + sigma_2 - 2.0 * sqrtm)\n",
    "\n",
    "    return lhs + rhs\n",
    "\n",
    "\n",
    "def compute_fid_score(fake_generator, real_generator, device, n=10000):\n",
    "    \"\"\"\n",
    "    images must be a torch tensor of shape (N, C, H, W) in [0, 1].\n",
    "    \"\"\"\n",
    "    if cache['initialized']:\n",
    "        inception = cache['inception']\n",
    "        mu_2, sigma_2 = cache['mu_2'], cache['sigma_2']\n",
    "    else:\n",
    "        inception = upsample_inception3_pool3().to(device)\n",
    "        mu_2, sigma_2 = get_mu_sigma(inception, real_generator, n, device)\n",
    "\n",
    "        cache['initialized'] = True\n",
    "        cache['inception'] = inception\n",
    "        cache['mu_2'], cache['sigma_2'] = mu_2, sigma_2\n",
    "\n",
    "    mu_1, sigma_1 = get_mu_sigma(inception, fake_generator, n, device)\n",
    "\n",
    "    return frechet_distance(mu_1, sigma_1, mu_2, sigma_2)"
   ]
  },
  {
   "cell_type": "code",
   "execution_count": 170,
   "metadata": {
    "colab": {
     "base_uri": "https://localhost:8080/"
    },
    "id": "QPwgu0O6Vvjy",
    "outputId": "748eb786-4140-4531-89e2-23d84babace9"
   },
   "outputs": [
    {
     "name": "stdout",
     "output_type": "stream",
     "text": [
      "Files already downloaded and verified\n"
     ]
    }
   ],
   "source": [
    "data=torchvision.datasets.CIFAR100(\"content/\",train=True,download=True)"
   ]
  },
  {
   "cell_type": "code",
   "execution_count": 171,
   "metadata": {
    "id": "aDf1Z_ejVyZ_"
   },
   "outputs": [],
   "source": [
    "# inspired by https://github.com/pytorch/examples/blob/master/dcgan/main.py\n",
    "import torch.nn as nn\n",
    "\n",
    "\n",
    "class Generator(nn.Module):\n",
    "    def __init__(self, z_dims=128, ngf=64):\n",
    "        super().__init__()\n",
    "\n",
    "        self.main = nn.Sequential(\n",
    "                nn.ConvTranspose2d(z_dims, ngf * 8, 4, 1, 0, bias=False),\n",
    "                nn.BatchNorm2d(ngf * 8),\n",
    "                nn.ReLU(inplace=False),\n",
    "\n",
    "                nn.ConvTranspose2d(ngf * 8, ngf * 4, 4, 2, 1, bias=False),\n",
    "                nn.BatchNorm2d(ngf * 4),\n",
    "                nn.ReLU(inplace=False),\n",
    "\n",
    "                nn.ConvTranspose2d(ngf * 4, ngf * 2, 4, 2, 1, bias=False),\n",
    "                nn.BatchNorm2d(ngf * 2),\n",
    "                nn.ReLU(inplace=False),\n",
    "\n",
    "                nn.ConvTranspose2d(ngf * 2, ngf, 4, 2, 1, bias=False),\n",
    "                nn.BatchNorm2d(ngf),\n",
    "                nn.ReLU(inplace=False),\n",
    "\n",
    "                nn.ConvTranspose2d(ngf, ngf, 4, 2, 1, bias=False),\n",
    "                nn.BatchNorm2d(ngf),\n",
    "                nn.ReLU(inplace=False),\n",
    "\n",
    "                nn.ConvTranspose2d(ngf, 3, 4, 2, 1, bias=True),\n",
    "                nn.Tanh())\n",
    "\n",
    "    def forward(self, input):\n",
    "        input = input.view(input.size(0), input.size(1), 1, 1)\n",
    "\n",
    "        return self.main(input)\n",
    "\n",
    "\n",
    "class Discriminator(nn.Module):\n",
    "    def __init__(self, nc=3, ndf=64):\n",
    "        super().__init__()\n",
    "\n",
    "        self.main = nn.Sequential(\n",
    "            nn.Conv2d(nc, ndf, 4, 2, 1, bias=False),\n",
    "            nn.BatchNorm2d(ndf),\n",
    "            nn.LeakyReLU(0.2,inplace=False),\n",
    "\n",
    "            nn.Conv2d(ndf, ndf, 4, 2, 1, bias=False),\n",
    "            nn.BatchNorm2d(ndf),\n",
    "            nn.LeakyReLU(0.2, inplace=False),\n",
    "\n",
    "            nn.Conv2d(ndf, ndf * 2, 4, 2, 1, bias=False),\n",
    "            nn.BatchNorm2d(ndf * 2),\n",
    "            nn.LeakyReLU(0.2, inplace=False),\n",
    "\n",
    "            nn.Conv2d(ndf * 2, ndf * 4, 4, 2, 1, bias=False),\n",
    "            nn.BatchNorm2d(ndf * 4),\n",
    "            nn.LeakyReLU(0.2, inplace=False),\n",
    "\n",
    "            nn.Conv2d(ndf * 4, ndf * 8, 4, 2, 1))\n",
    "\n",
    "        self.last = nn.Sequential(\n",
    "                nn.BatchNorm2d(ndf * 8),\n",
    "                nn.LeakyReLU(0.2, inplace=False),\n",
    "                nn.Conv2d(ndf * 8, 1, 4, 1, 0, bias=False),\n",
    "                nn.Sigmoid())\n",
    "\n",
    "    def forward(self, input):\n",
    "        phi = self.main(input)\n",
    "        result = self.last(phi)\n",
    "\n",
    "        return result.reshape(input.shape[0]), phi"
   ]
  },
  {
   "cell_type": "code",
   "execution_count": 197,
   "metadata": {
    "id": "DRpu9qjJV6GQ"
   },
   "outputs": [],
   "source": [
    "import argparse\n",
    "import pathlib\n",
    "\n",
    "import tqdm\n",
    "import torch\n",
    "import torchvision\n",
    "import numpy as np\n",
    "import wandb\n",
    "import tqdm\n",
    "\n",
    "\n",
    "\n",
    "\n",
    "def train(g, g_optim, d, d_optim, data, config, device):\n",
    "    g.train()\n",
    "    d.train()\n",
    "\n",
    "    criterion = torch.nn.BCELoss()\n",
    "    real_label = torch.full((config['data_args']['batch_size'],), 1, device=device,dtype=torch.float32)\n",
    "    fake_label = torch.full((config['data_args']['batch_size'],), 0, device=device,dtype=torch.float32)\n",
    "\n",
    "    data=get_data(5, 1) #batch size , no_workers\n",
    "\n",
    "    for i, (x_real, _) in enumerate(data):\n",
    "        \n",
    "        x_fake = g(torch.randn([x_real.shape[0], config['z_dim']]).to(device))\n",
    "        d_fake, phi_fake = d(x_fake)\n",
    "\n",
    "        # Train G.\n",
    "        g_optim.zero_grad()\n",
    "        d_optim.zero_grad()\n",
    "\n",
    "        \n",
    "\n",
    "        # Train D.\n",
    "        x_real = x_real.to(device)\n",
    "        x_real.requires_grad_()\n",
    "        x_real.retain_grad()\n",
    "        x_fake.retain_grad()\n",
    "\n",
    "        d_real, phi_real = d(x_real)\n",
    "\n",
    "        #g_optim.zero_grad()\n",
    "        #d_optim.zero_grad()\n",
    "\n",
    "        d_loss = criterion(d_fake, fake_label) + criterion(d_real, real_label)\n",
    "        # d_loss = (d_fake ** 2).mean() + ((1.0 - d_real) ** 2).mean()\n",
    "        # d_loss = (d_fake).mean() + -(d_real).mean()\n",
    "        \n",
    "        \n",
    "        \n",
    "        \n",
    "        \n",
    "\n",
    "        #metrics = {\n",
    "        #    'd_loss': d_loss.item(),\n",
    "        #    'g_loss': g_loss.item(),\n",
    "        #    }\n",
    "\n",
    "        if not config['baseline']:\n",
    "            x_fake_grad = x_fake.grad / (x_fake.grad.reshape(x_fake.shape[0], -1).norm(dim=1)[:, None, None, None] + 1e-8)\n",
    "            x_fake_adv = x_fake.detach() + config['eps'] * x_fake_grad\n",
    "\n",
    "            x_real_grad = x_real.grad / (x_real.grad.reshape(x_real.shape[0], -1).norm(dim=1)[:, None, None, None] + 1e-8)\n",
    "            x_real_adv = x_real.detach() + config['eps'] * x_real_grad\n",
    "\n",
    "\n",
    "            _, phi_fake_adv = d(x_fake_adv)\n",
    "            _, phi_real_adv = d(x_real_adv)\n",
    "\n",
    "            d_loss += config['reg'] * ((phi_fake_adv - phi_fake).norm() + (phi_real_adv - phi_real).norm())\n",
    "           \n",
    "\n",
    "            #metrics['reg_loss'] = reg_loss.item()\n",
    "            \n",
    "            \n",
    "        d_loss.backward(retain_graph=True)\n",
    "\n",
    "\n",
    "        g_loss = criterion(d_fake, real_label)\n",
    "        # g_loss = ((1.0 - d_fake) ** 2).mean()\n",
    "        # g_loss = -(d_fake).mean()\n",
    "            \n",
    "        \n",
    "        g_loss.backward(retain_graph=True)\n",
    "\n",
    "        g_optim.step()\n",
    "        \n",
    "        train_gen_loss_array.append(g_loss.item())\n",
    "        train_dis_loss_array.append(d_loss.item())\n",
    "        \n",
    "        #reg_loss.backward()\n",
    "        \n",
    "        d_optim.step()\n",
    "\n",
    "        #if i % 500 == 0:\n",
    "            #image_fake = torchvision.utils.make_grid(x_fake.detach().cpu(), normalize=True, range=(-1, 1))\n",
    "            #image_fake = np.array(torchvision.transforms.functional.to_pil_image(image_fake))\n",
    "\n",
    "            #image_real = torchvision.utils.make_grid(x_real.detach().cpu(), normalize=True, range=(-1, 1))\n",
    "            #image_real = np.array(torchvision.transforms.functional.to_pil_image(image_real))\n",
    "\n",
    "            #metrics['fake'] = [wandb.Image(image_fake)]\n",
    "            #metrics['real'] = [wandb.Image(image_real)]\n",
    "\n",
    "        #wandb.log(metrics, step=wandb.summary['step'])\n",
    "        #wandb.summary['step'] += 1\n",
    "\n",
    "\n",
    "def infinite_fakes(g, config, device, batch_size=8):\n",
    "    while True:\n",
    "        z = torch.randn([batch_size, config['z_dim']]).to(device)\n",
    "        x_fake = g(z)\n",
    "\n",
    "        yield x_fake.detach().cpu()\n",
    "\n",
    "\n",
    "def infinite_reals(data, batch_size=8):\n",
    "    while True:\n",
    "        for x, _ in data:\n",
    "            yield x\n",
    "\n",
    "\n",
    "def weights_init(m):\n",
    "    classname = m.__class__.__name__\n",
    "\n",
    "    if classname.find('Conv') != -1:\n",
    "        torch.nn.init.normal_(m.weight.data, 0.0, 0.02)\n",
    "    elif classname.find('BatchNorm') != -1:\n",
    "        torch.nn.init.normal_(m.weight.data, 1.0, 0.02)\n",
    "        torch.nn.init.constant_(m.bias.data, 0)\n",
    "\n",
    "\n",
    "def main(config):\n",
    "    \n",
    "    #wandb.init()\n",
    "    \n",
    "    device = torch.device('cuda' if torch.cuda.is_available() else 'cpu')\n",
    "    #data = get_data(**config['data_args'])\n",
    "\n",
    "    g = Generator(config['z_dim'], config['ngf']).to(device)\n",
    "    g.apply(weights_init)\n",
    "    g_optim = torch.optim.Adam(g.parameters(), lr=config['lr'], betas=(0.5, 0.999))\n",
    "\n",
    "    d = Discriminator(ndf=config['ndf']).to(device)\n",
    "    d.apply(weights_init)\n",
    "    d_optim = torch.optim.Adam(d.parameters(), lr=config['lr'], betas=(0.5, 0.999))\n",
    "\n",
    "    fake_generator = infinite_fakes(g, config, device)\n",
    "    real_generator = infinite_reals(data)\n",
    "\n",
    "    #wandb.init(project='robust_discriminator', config=config)\n",
    "    #wandb.summary['step'] = 0\n",
    "\n",
    "    fixed_noise = torch.randn(config['data_args']['batch_size'], config['z_dim']).to(device)\n",
    "\n",
    "    for epoch in tqdm(range(config['epochs'])):\n",
    "        train(g, g_optim, d, d_optim, data, config, device)\n",
    "\n",
    "        x_fixed = g(fixed_noise)\n",
    "        image_fixed = torchvision.utils.make_grid(x_fixed.detach().cpu(), normalize=True, range=(-1, 1))\n",
    "        image_fixed = np.array(torchvision.transforms.functional.to_pil_image(image_fixed))\n",
    "\n",
    "        fid = compute_fid_score(fake_generator, real_generator, device)\n",
    "\n",
    "        #if fid < wandb.summary.get('fid', np.inf):\n",
    "        #    wandb.summary['best_fid'] = fid\n",
    "        #    wandb.summary['best_epoch'] = epoch\n",
    "\n",
    "        #wandb.log({'fid': fid, 'fixed': [wandb.Image(image_fixed)]}, step=wandb.summary['step'])\n",
    "\n",
    "        #if epoch % 1 == 0:\n",
    "            #torch.save(g.state_dict(), pathlib.Path(wandb.run.dir) / 'generator_%03d.t7')\n",
    "            #torch.save(d.state_dict(), pathlib.Path(wandb.run.dir) / 'discriminator_%03d.t7')\n",
    "\n",
    "    "
   ]
  },
  {
   "cell_type": "code",
   "execution_count": 198,
   "metadata": {
    "id": "WY1KPl67V8at"
   },
   "outputs": [],
   "source": [
    "dataset_dir=\"/content/content/cifar-10-batches-py\"\n",
    "batch_size=5\n",
    "num_workers=1\n",
    "baseline=False\n",
    "epochs=15\n",
    "lr=0.0001\n",
    "z_dim=512\n",
    "ndf=64\n",
    "ngf=64\n",
    "eps=1e-4\n",
    "reg=1e1\n",
    "\n",
    "config = {\n",
    "        'baseline': baseline,\n",
    "\n",
    "        'lr': lr,\n",
    "        'epochs': epochs,\n",
    "\n",
    "        'z_dim': z_dim,\n",
    "        'ngf': ngf,\n",
    "        'ndf': ndf,\n",
    "\n",
    "        'reg': reg,\n",
    "        'eps': eps,\n",
    "\n",
    "        'data_args': {\n",
    "            #'dataset_dir': dataset_dir,\n",
    "            'batch_size': batch_size,\n",
    "            'num_workers': num_workers,\n",
    "            },\n",
    "        }\n"
   ]
  },
  {
   "cell_type": "code",
   "execution_count": 199,
   "metadata": {
    "colab": {
     "base_uri": "https://localhost:8080/"
    },
    "id": "NlfPg1a6WJh-",
    "outputId": "68ebac63-7bd8-4499-d2bb-b6e90f4c144a"
   },
   "outputs": [
    {
     "name": "stdout",
     "output_type": "stream",
     "text": [
      "Files already downloaded and verified\n"
     ]
    }
   ],
   "source": [
    "device = torch.device('cuda' if torch.cuda.is_available() else 'cpu')\n",
    "data = get_data(batch_size, num_workers)"
   ]
  },
  {
   "cell_type": "code",
   "execution_count": 200,
   "metadata": {
    "id": "FvXFqxtwWN5n"
   },
   "outputs": [],
   "source": [
    "g = Generator(config['z_dim'], config['ngf']).to(device)\n",
    "g.apply(weights_init)\n",
    "g_optim = torch.optim.Adam(g.parameters(), lr=config['lr'], betas=(0.5, 0.999))\n",
    "\n",
    "d = Discriminator(ndf=config['ndf']).to(device)\n",
    "d.apply(weights_init)\n",
    "d_optim = torch.optim.Adam(d.parameters(), lr=config['lr'], betas=(0.5, 0.999))"
   ]
  },
  {
   "cell_type": "code",
   "execution_count": 201,
   "metadata": {
    "id": "K_RnpMI9XcLG"
   },
   "outputs": [],
   "source": [
    "fake_generator = infinite_fakes(g, config, device)\n",
    "real_generator = infinite_reals(data)"
   ]
  },
  {
   "cell_type": "code",
   "execution_count": 202,
   "metadata": {
    "id": "Vd1m9C7HXee-"
   },
   "outputs": [],
   "source": [
    "fixed_noise = torch.randn(config['data_args']['batch_size'], config['z_dim']).to(device)"
   ]
  },
  {
   "cell_type": "code",
   "execution_count": 203,
   "metadata": {},
   "outputs": [],
   "source": [
    "train_gen_loss_array=[]\n",
    "train_dis_loss_array=[]"
   ]
  },
  {
   "cell_type": "code",
   "execution_count": 204,
   "metadata": {},
   "outputs": [],
   "source": [
    "fid_score=[]"
   ]
  },
  {
   "cell_type": "code",
   "execution_count": 205,
   "metadata": {
    "colab": {
     "base_uri": "https://localhost:8080/",
     "height": 173,
     "referenced_widgets": [
      "bcaaac909ff2486fa518518843989c86",
      "0a6688e87a10421fb874be23c427b3ff",
      "6cf3e0866f304f09b82fe5f72bb0053c",
      "09bb78381f2b43eeba64b7b76931f8b6",
      "4b9358118d1141c79a29fb2386b7d03b",
      "57dd4545c4bc44b184cecda19e5d3a43",
      "cd1905c8f4ab4d6fb93ce42cb676471c",
      "a079d9a6e8f748ac989e779cac9f27a6",
      "7fa0b9c564f6406d8f84855cf4d1f034",
      "ff2e6938b2e547d6808ee2affb107905",
      "7f9c575fee2f49fd95097fe87c1a1014"
     ]
    },
    "id": "uZY-YMU-Xgc7",
    "outputId": "68d7f38a-5e47-40f9-866a-deb1b5f1ad6f"
   },
   "outputs": [
    {
     "name": "stderr",
     "output_type": "stream",
     "text": [
      "  0%|                                                                                            | 0/15 [00:00<?, ?it/s]"
     ]
    },
    {
     "name": "stdout",
     "output_type": "stream",
     "text": [
      "Files already downloaded and verified\n"
     ]
    },
    {
     "name": "stderr",
     "output_type": "stream",
     "text": [
      "  7%|█████▌                                                                             | 1/15 [03:32<49:40, 212.87s/it]"
     ]
    },
    {
     "name": "stdout",
     "output_type": "stream",
     "text": [
      "Done!\n",
      "Files already downloaded and verified\n"
     ]
    },
    {
     "name": "stderr",
     "output_type": "stream",
     "text": [
      " 13%|███████████                                                                        | 2/15 [06:42<44:34, 205.76s/it]"
     ]
    },
    {
     "name": "stdout",
     "output_type": "stream",
     "text": [
      "Files already downloaded and verified\n"
     ]
    },
    {
     "name": "stderr",
     "output_type": "stream",
     "text": [
      " 20%|████████████████▌                                                                  | 3/15 [09:50<40:07, 200.64s/it]"
     ]
    },
    {
     "name": "stdout",
     "output_type": "stream",
     "text": [
      "Files already downloaded and verified\n"
     ]
    },
    {
     "name": "stderr",
     "output_type": "stream",
     "text": [
      " 27%|██████████████████████▏                                                            | 4/15 [13:00<36:09, 197.27s/it]"
     ]
    },
    {
     "name": "stdout",
     "output_type": "stream",
     "text": [
      "Files already downloaded and verified\n"
     ]
    },
    {
     "name": "stderr",
     "output_type": "stream",
     "text": [
      " 33%|███████████████████████████▋                                                       | 5/15 [16:10<32:31, 195.11s/it]"
     ]
    },
    {
     "name": "stdout",
     "output_type": "stream",
     "text": [
      "Files already downloaded and verified\n"
     ]
    },
    {
     "name": "stderr",
     "output_type": "stream",
     "text": [
      " 40%|█████████████████████████████████▏                                                 | 6/15 [19:20<29:02, 193.60s/it]"
     ]
    },
    {
     "name": "stdout",
     "output_type": "stream",
     "text": [
      "Files already downloaded and verified\n"
     ]
    },
    {
     "name": "stderr",
     "output_type": "stream",
     "text": [
      " 47%|██████████████████████████████████████▋                                            | 7/15 [22:29<25:37, 192.16s/it]"
     ]
    },
    {
     "name": "stdout",
     "output_type": "stream",
     "text": [
      "Files already downloaded and verified\n"
     ]
    },
    {
     "name": "stderr",
     "output_type": "stream",
     "text": [
      " 53%|████████████████████████████████████████████▎                                      | 8/15 [25:37<22:18, 191.15s/it]"
     ]
    },
    {
     "name": "stdout",
     "output_type": "stream",
     "text": [
      "Files already downloaded and verified\n"
     ]
    },
    {
     "name": "stderr",
     "output_type": "stream",
     "text": [
      " 60%|█████████████████████████████████████████████████▊                                 | 9/15 [28:46<19:02, 190.46s/it]"
     ]
    },
    {
     "name": "stdout",
     "output_type": "stream",
     "text": [
      "Files already downloaded and verified\n"
     ]
    },
    {
     "name": "stderr",
     "output_type": "stream",
     "text": [
      " 67%|██████████████████████████████████████████████████████▋                           | 10/15 [31:55<15:49, 189.93s/it]"
     ]
    },
    {
     "name": "stdout",
     "output_type": "stream",
     "text": [
      "Files already downloaded and verified\n"
     ]
    },
    {
     "name": "stderr",
     "output_type": "stream",
     "text": [
      " 73%|████████████████████████████████████████████████████████████▏                     | 11/15 [35:04<12:38, 189.55s/it]"
     ]
    },
    {
     "name": "stdout",
     "output_type": "stream",
     "text": [
      "Done!\n",
      "Files already downloaded and verified\n"
     ]
    },
    {
     "name": "stderr",
     "output_type": "stream",
     "text": [
      " 80%|█████████████████████████████████████████████████████████████████▌                | 12/15 [38:12<09:27, 189.29s/it]"
     ]
    },
    {
     "name": "stdout",
     "output_type": "stream",
     "text": [
      "Files already downloaded and verified\n"
     ]
    },
    {
     "name": "stderr",
     "output_type": "stream",
     "text": [
      " 87%|███████████████████████████████████████████████████████████████████████           | 13/15 [41:21<06:18, 189.08s/it]"
     ]
    },
    {
     "name": "stdout",
     "output_type": "stream",
     "text": [
      "Files already downloaded and verified\n"
     ]
    },
    {
     "name": "stderr",
     "output_type": "stream",
     "text": [
      " 93%|████████████████████████████████████████████████████████████████████████████▌     | 14/15 [44:30<03:09, 189.04s/it]"
     ]
    },
    {
     "name": "stdout",
     "output_type": "stream",
     "text": [
      "Files already downloaded and verified\n"
     ]
    },
    {
     "name": "stderr",
     "output_type": "stream",
     "text": [
      "100%|██████████████████████████████████████████████████████████████████████████████████| 15/15 [47:39<00:00, 190.62s/it]\n"
     ]
    }
   ],
   "source": [
    "torch.autograd.set_detect_anomaly(False)\n",
    "import  tqdm \n",
    "\n",
    "for epoch in tqdm.tqdm(range(config['epochs'])):\n",
    "    train(g, g_optim, d, d_optim, data, config, device)\n",
    "\n",
    "    x_fixed = g(fixed_noise)\n",
    "    image_fixed = torchvision.utils.make_grid(x_fixed.detach().cpu(), normalize=True, range=(-1, 1))\n",
    "    image_fixed = np.array(torchvision.transforms.functional.to_pil_image(image_fixed))\n",
    "\n",
    "    fid = compute_fid_score( fake_generator, real_generator, device )\n",
    "\n",
    "    #if fid < wandb.summary.get('fid', np.inf):\n",
    "    #    wandb.summary['best_fid'] = fid\n",
    "    #    wandb.summary['best_epoch'] = epoch\n",
    "    fid_score.append(fid)\n",
    "\n",
    "    #wandb.log({'fid': fid, 'fixed': [wandb.Image(image_fixed)]}, step=wandb.summary['step'])\n",
    "\n",
    "    if epoch % 10 == 0:\n",
    "        print(\"Done!\")\n",
    "        #torch.save(g.state_dict())"
   ]
  },
  {
   "cell_type": "code",
   "execution_count": 207,
   "metadata": {},
   "outputs": [
    {
     "data": {
      "image/png": "[encoded data removed]",
      "text/plain": [
       "<Figure size 432x288 with 1 Axes>"
      ]
     },
     "metadata": {
      "needs_background": "light"
     },
     "output_type": "display_data"
    }
   ],
   "source": [
    "plt.plot(fid_score)\n",
    "plt.xlabel(\"Iterations\")\n",
    "plt.ylabel(\"FID Score\")\n",
    "plt.show()"
   ]
  },
  {
   "cell_type": "code",
   "execution_count": 208,
   "metadata": {},
   "outputs": [
    {
     "data": {
      "image/png": "[encoded data removed]",
      "text/plain": [
       "<Figure size 432x288 with 1 Axes>"
      ]
     },
     "metadata": {
      "needs_background": "light"
     },
     "output_type": "display_data"
    }
   ],
   "source": [
    "plt.plot(train_gen_loss_array)\n",
    "plt.xlabel(\"Iterations\")\n",
    "plt.ylabel(\"Generator Loss\")\n",
    "plt.show()"
   ]
  },
  {
   "cell_type": "code",
   "execution_count": 209,
   "metadata": {},
   "outputs": [
    {
     "data": {
      "image/png": "[encoded data removed]",
      "text/plain": [
       "<Figure size 432x288 with 1 Axes>"
      ]
     },
     "metadata": {
      "needs_background": "light"
     },
     "output_type": "display_data"
    }
   ],
   "source": [
    "plt.plot(train_dis_loss_array)\n",
    "plt.xlabel(\"Iterations\")\n",
    "plt.ylabel(\"Discriminator Loss\")\n",
    "plt.show()"
   ]
  },
  {
   "cell_type": "code",
   "execution_count": null,
   "metadata": {},
   "outputs": [],
   "source": []
  }
 ],
 "metadata": {
  "accelerator": "GPU",
  "colab": {
   "name": "DL.ipynb",
   "provenance": []
  },
  "kernelspec": {
   "display_name": "Python 3",
   "language": "python",
   "name": "python3"
  },
  "language_info": {
   "codemirror_mode": {
    "name": "ipython",
    "version": 3
   },
   "file_extension": ".py",
   "mimetype": "text/x-python",
   "name": "python",
   "nbconvert_exporter": "python",
   "pygments_lexer": "ipython3",
   "version": "3.8.5"
  },
  "widgets": {
   "application/vnd.jupyter.widget-state+json": {
    "09bb78381f2b43eeba64b7b76931f8b6": {
     "model_module": "@jupyter-widgets/controls",
     "model_module_version": "1.5.0",
     "model_name": "HTMLModel",
     "state": {
      "_dom_classes": [],
      "_model_module": "@jupyter-widgets/controls",
      "_model_module_version": "1.5.0",
      "_model_name": "HTMLModel",
      "_view_count": null,
      "_view_module": "@jupyter-widgets/controls",
      "_view_module_version": "1.5.0",
      "_view_name": "HTMLView",
      "description": "",
      "description_tooltip": null,
      "layout": "IPY_MODEL_ff2e6938b2e547d6808ee2affb107905",
      "placeholder": "​",
      "style": "IPY_MODEL_7f9c575fee2f49fd95097fe87c1a1014",
      "value": " 104M/104M [00:00&lt;00:00, 160MB/s]"
     }
    },
    "0a6688e87a10421fb874be23c427b3ff": {
     "model_module": "@jupyter-widgets/controls",
     "model_module_version": "1.5.0",
     "model_name": "HTMLModel",
     "state": {
      "_dom_classes": [],
      "_model_module": "@jupyter-widgets/controls",
      "_model_module_version": "1.5.0",
      "_model_name": "HTMLModel",
      "_view_count": null,
      "_view_module": "@jupyter-widgets/controls",
      "_view_module_version": "1.5.0",
      "_view_name": "HTMLView",
      "description": "",
      "description_tooltip": null,
      "layout": "IPY_MODEL_57dd4545c4bc44b184cecda19e5d3a43",
      "placeholder": "​",
      "style": "IPY_MODEL_cd1905c8f4ab4d6fb93ce42cb676471c",
      "value": "100%"
     }
    },
    "4b9358118d1141c79a29fb2386b7d03b": {
     "model_module": "@jupyter-widgets/base",
     "model_module_version": "1.2.0",
     "model_name": "LayoutModel",
     "state": {
      "_model_module": "@jupyter-widgets/base",
      "_model_module_version": "1.2.0",
      "_model_name": "LayoutModel",
      "_view_count": null,
      "_view_module": "@jupyter-widgets/base",
      "_view_module_version": "1.2.0",
      "_view_name": "LayoutView",
      "align_content": null,
      "align_items": null,
      "align_self": null,
      "border": null,
      "bottom": null,
      "display": null,
      "flex": null,
      "flex_flow": null,
      "grid_area": null,
      "grid_auto_columns": null,
      "grid_auto_flow": null,
      "grid_auto_rows": null,
      "grid_column": null,
      "grid_gap": null,
      "grid_row": null,
      "grid_template_areas": null,
      "grid_template_columns": null,
      "grid_template_rows": null,
      "height": null,
      "justify_content": null,
      "justify_items": null,
      "left": null,
      "margin": null,
      "max_height": null,
      "max_width": null,
      "min_height": null,
      "min_width": null,
      "object_fit": null,
      "object_position": null,
      "order": null,
      "overflow": null,
      "overflow_x": null,
      "overflow_y": null,
      "padding": null,
      "right": null,
      "top": null,
      "visibility": null,
      "width": null
     }
    },
    "57dd4545c4bc44b184cecda19e5d3a43": {
     "model_module": "@jupyter-widgets/base",
     "model_module_version": "1.2.0",
     "model_name": "LayoutModel",
     "state": {
      "_model_module": "@jupyter-widgets/base",
      "_model_module_version": "1.2.0",
      "_model_name": "LayoutModel",
      "_view_count": null,
      "_view_module": "@jupyter-widgets/base",
      "_view_module_version": "1.2.0",
      "_view_name": "LayoutView",
      "align_content": null,
      "align_items": null,
      "align_self": null,
      "border": null,
      "bottom": null,
      "display": null,
      "flex": null,
      "flex_flow": null,
      "grid_area": null,
      "grid_auto_columns": null,
      "grid_auto_flow": null,
      "grid_auto_rows": null,
      "grid_column": null,
      "grid_gap": null,
      "grid_row": null,
      "grid_template_areas": null,
      "grid_template_columns": null,
      "grid_template_rows": null,
      "height": null,
      "justify_content": null,
      "justify_items": null,
      "left": null,
      "margin": null,
      "max_height": null,
      "max_width": null,
      "min_height": null,
      "min_width": null,
      "object_fit": null,
      "object_position": null,
      "order": null,
      "overflow": null,
      "overflow_x": null,
      "overflow_y": null,
      "padding": null,
      "right": null,
      "top": null,
      "visibility": null,
      "width": null
     }
    },
    "6cf3e0866f304f09b82fe5f72bb0053c": {
     "model_module": "@jupyter-widgets/controls",
     "model_module_version": "1.5.0",
     "model_name": "FloatProgressModel",
     "state": {
      "_dom_classes": [],
      "_model_module": "@jupyter-widgets/controls",
      "_model_module_version": "1.5.0",
      "_model_name": "FloatProgressModel",
      "_view_count": null,
      "_view_module": "@jupyter-widgets/controls",
      "_view_module_version": "1.5.0",
      "_view_name": "ProgressView",
      "bar_style": "success",
      "description": "",
      "description_tooltip": null,
      "layout": "IPY_MODEL_a079d9a6e8f748ac989e779cac9f27a6",
      "max": 108949747,
      "min": 0,
      "orientation": "horizontal",
      "style": "IPY_MODEL_7fa0b9c564f6406d8f84855cf4d1f034",
      "value": 108949747
     }
    },
    "7f9c575fee2f49fd95097fe87c1a1014": {
     "model_module": "@jupyter-widgets/controls",
     "model_module_version": "1.5.0",
     "model_name": "DescriptionStyleModel",
     "state": {
      "_model_module": "@jupyter-widgets/controls",
      "_model_module_version": "1.5.0",
      "_model_name": "DescriptionStyleModel",
      "_view_count": null,
      "_view_module": "@jupyter-widgets/base",
      "_view_module_version": "1.2.0",
      "_view_name": "StyleView",
      "description_width": ""
     }
    },
    "7fa0b9c564f6406d8f84855cf4d1f034": {
     "model_module": "@jupyter-widgets/controls",
     "model_module_version": "1.5.0",
     "model_name": "ProgressStyleModel",
     "state": {
      "_model_module": "@jupyter-widgets/controls",
      "_model_module_version": "1.5.0",
      "_model_name": "ProgressStyleModel",
      "_view_count": null,
      "_view_module": "@jupyter-widgets/base",
      "_view_module_version": "1.2.0",
      "_view_name": "StyleView",
      "bar_color": null,
      "description_width": ""
     }
    },
    "a079d9a6e8f748ac989e779cac9f27a6": {
     "model_module": "@jupyter-widgets/base",
     "model_module_version": "1.2.0",
     "model_name": "LayoutModel",
     "state": {
      "_model_module": "@jupyter-widgets/base",
      "_model_module_version": "1.2.0",
      "_model_name": "LayoutModel",
      "_view_count": null,
      "_view_module": "@jupyter-widgets/base",
      "_view_module_version": "1.2.0",
      "_view_name": "LayoutView",
      "align_content": null,
      "align_items": null,
      "align_self": null,
      "border": null,
      "bottom": null,
      "display": null,
      "flex": null,
      "flex_flow": null,
      "grid_area": null,
      "grid_auto_columns": null,
      "grid_auto_flow": null,
      "grid_auto_rows": null,
      "grid_column": null,
      "grid_gap": null,
      "grid_row": null,
      "grid_template_areas": null,
      "grid_template_columns": null,
      "grid_template_rows": null,
      "height": null,
      "justify_content": null,
      "justify_items": null,
      "left": null,
      "margin": null,
      "max_height": null,
      "max_width": null,
      "min_height": null,
      "min_width": null,
      "object_fit": null,
      "object_position": null,
      "order": null,
      "overflow": null,
      "overflow_x": null,
      "overflow_y": null,
      "padding": null,
      "right": null,
      "top": null,
      "visibility": null,
      "width": null
     }
    },
    "bcaaac909ff2486fa518518843989c86": {
     "model_module": "@jupyter-widgets/controls",
     "model_module_version": "1.5.0",
     "model_name": "HBoxModel",
     "state": {
      "_dom_classes": [],
      "_model_module": "@jupyter-widgets/controls",
      "_model_module_version": "1.5.0",
      "_model_name": "HBoxModel",
      "_view_count": null,
      "_view_module": "@jupyter-widgets/controls",
      "_view_module_version": "1.5.0",
      "_view_name": "HBoxView",
      "box_style": "",
      "children": [
       "IPY_MODEL_0a6688e87a10421fb874be23c427b3ff",
       "IPY_MODEL_6cf3e0866f304f09b82fe5f72bb0053c",
       "IPY_MODEL_09bb78381f2b43eeba64b7b76931f8b6"
      ],
      "layout": "IPY_MODEL_4b9358118d1141c79a29fb2386b7d03b"
     }
    },
    "cd1905c8f4ab4d6fb93ce42cb676471c": {
     "model_module": "@jupyter-widgets/controls",
     "model_module_version": "1.5.0",
     "model_name": "DescriptionStyleModel",
     "state": {
      "_model_module": "@jupyter-widgets/controls",
      "_model_module_version": "1.5.0",
      "_model_name": "DescriptionStyleModel",
      "_view_count": null,
      "_view_module": "@jupyter-widgets/base",
      "_view_module_version": "1.2.0",
      "_view_name": "StyleView",
      "description_width": ""
     }
    },
    "ff2e6938b2e547d6808ee2affb107905": {
     "model_module": "@jupyter-widgets/base",
     "model_module_version": "1.2.0",
     "model_name": "LayoutModel",
     "state": {
      "_model_module": "@jupyter-widgets/base",
      "_model_module_version": "1.2.0",
      "_model_name": "LayoutModel",
      "_view_count": null,
      "_view_module": "@jupyter-widgets/base",
      "_view_module_version": "1.2.0",
      "_view_name": "LayoutView",
      "align_content": null,
      "align_items": null,
      "align_self": null,
      "border": null,
      "bottom": null,
      "display": null,
      "flex": null,
      "flex_flow": null,
      "grid_area": null,
      "grid_auto_columns": null,
      "grid_auto_flow": null,
      "grid_auto_rows": null,
      "grid_column": null,
      "grid_gap": null,
      "grid_row": null,
      "grid_template_areas": null,
      "grid_template_columns": null,
      "grid_template_rows": null,
      "height": null,
      "justify_content": null,
      "justify_items": null,
      "left": null,
      "margin": null,
      "max_height": null,
      "max_width": null,
      "min_height": null,
      "min_width": null,
      "object_fit": null,
      "object_position": null,
      "order": null,
      "overflow": null,
      "overflow_x": null,
      "overflow_y": null,
      "padding": null,
      "right": null,
      "top": null,
      "visibility": null,
      "width": null
     }
    }
   }
  }
 },
 "nbformat": 4,
 "nbformat_minor": 1
}
