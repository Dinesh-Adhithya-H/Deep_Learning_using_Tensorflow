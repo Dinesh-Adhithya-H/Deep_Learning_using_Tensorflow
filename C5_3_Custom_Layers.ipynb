{
  "nbformat": 4,
  "nbformat_minor": 0,
  "metadata": {
    "colab": {
      "name": "5_3_Custom_Layers.ipynb",
      "provenance": [],
      "authorship_tag": "ABX9TyNsvCA+7CQmGfmFs3pJ7REp",
      "include_colab_link": true
    },
    "kernelspec": {
      "name": "python3",
      "display_name": "Python 3"
    },
    "language_info": {
      "name": "python"
    }
  },
  "cells": [
    {
      "cell_type": "markdown",
      "metadata": {
        "id": "view-in-github",
        "colab_type": "text"
      },
      "source": [
        "<a href=\"https://colab.research.google.com/github/Dinesh-Adhithya-H/Deep_Learning_using_Tensorflow/blob/main/5_3_Custom_Layers.ipynb\" target=\"_parent\"><img src=\"https://colab.research.google.com/assets/colab-badge.svg\" alt=\"Open In Colab\"/></a>"
      ]
    },
    {
      "cell_type": "markdown",
      "metadata": {
        "id": "QBBC6MWYSqR4"
      },
      "source": [
        "Lambda Layers"
      ]
    },
    {
      "cell_type": "code",
      "metadata": {
        "id": "vmp3uVsAWNZ6"
      },
      "source": [
        "import tensorflow as tf\n",
        "from tensorflow.keras.layers import Dense,Flatten,Lambda\n",
        "import numpy as np\n",
        "from tensorflow.keras.layers import Layer"
      ],
      "execution_count": 2,
      "outputs": []
    },
    {
      "cell_type": "code",
      "metadata": {
        "id": "s_r1nK3zRBh9"
      },
      "source": [
        "model=tf.keras.models.Sequential([\n",
        "  Flatten(input_shape=(20,20)),\n",
        "  Dense(128),\n",
        "  Lambda(lambda x : tf.abs(x)),\n",
        "  Dense(10,activation=\"relu\")\n",
        "])"
      ],
      "execution_count": 3,
      "outputs": []
    },
    {
      "cell_type": "code",
      "metadata": {
        "id": "S9Qiah1KXSyH"
      },
      "source": [
        "def relu(x):\n",
        "  return K.maximum(0.0,x)"
      ],
      "execution_count": 7,
      "outputs": []
    },
    {
      "cell_type": "code",
      "metadata": {
        "id": "LdiHqH6oXbus"
      },
      "source": [
        "from tensorflow.keras import backend as K\n",
        "mb odel=tf.keras.models.Sequential([\n",
        "  Flatten(input_shape=(20,20)),\n",
        "  Dense(128),\n",
        "  Lambda(relu),\n",
        "  Dense(10,activation=\"relu\")\n",
        "])"
      ],
      "execution_count": 8,
      "outputs": []
    },
    {
      "cell_type": "code",
      "metadata": {
        "id": "Tun5V6B5Xgzx"
      },
      "source": [
        "class simpledense(Layer):\n",
        "  def __init__(self,units=32):\n",
        "    super(simpledense,self).__init__()\n",
        "    self.units=units\n",
        "  def build(self,input_shape):\n",
        "    w_init=tf.random_normal_initializer()\n",
        "    self.w=tf.Variable(name=\"kernel\",\n",
        "          initial_value=w_init(shape=(input_shape[-1],self.units),dtype='float32'),trainable=True)\n",
        "    b_init=tf.zeros_initializer()\n",
        "    self.b=tf.Variable(name=\"bias\",initial_value=b_init(shape=(input_shape[-1],),dtype='float32'),trainable=True)\n",
        "  def call(self,inputs):\n",
        "    return(tf.matmul(inputs,self.w)+self.b)"
      ],
      "execution_count": 11,
      "outputs": []
    },
    {
      "cell_type": "code",
      "metadata": {
        "id": "UpLTxkv4gEwo"
      },
      "source": [
        "my_dense = simpledense(units=1)"
      ],
      "execution_count": 12,
      "outputs": []
    },
    {
      "cell_type": "code",
      "metadata": {
        "id": "2MgYjadYgJyr"
      },
      "source": [
        "x=tf.ones((1,1))\n",
        "y=my_dense(x)"
      ],
      "execution_count": 13,
      "outputs": []
    },
    {
      "cell_type": "code",
      "metadata": {
        "colab": {
          "base_uri": "https://localhost:8080/"
        },
        "id": "WOE1sZLVgRHY",
        "outputId": "e9d5b933-064e-4edd-ffcf-dca81e5a8103"
      },
      "source": [
        "print(my_dense.variables)"
      ],
      "execution_count": 14,
      "outputs": [
        {
          "output_type": "stream",
          "text": [
            "[<tf.Variable 'simpledense_1/kernel:0' shape=(1, 1) dtype=float32, numpy=array([[-0.06247881]], dtype=float32)>, <tf.Variable 'simpledense_1/bias:0' shape=(1,) dtype=float32, numpy=array([0.], dtype=float32)>]\n"
          ],
          "name": "stdout"
        }
      ]
    },
    {
      "cell_type": "code",
      "metadata": {
        "id": "a-nvtzTYgwxY"
      },
      "source": [
        "xs = np.array([-1.0,  0.0, 1.0, 2.0, 3.0, 4.0], dtype=float)\n",
        "ys = np.array([-3.0, -1.0, 1.0, 3.0, 5.0, 7.0], dtype=float)\n",
        "\n",
        "\n",
        "# use the Sequential API to build a model with our custom layer\n",
        "my_layer = simpledense(units=1)"
      ],
      "execution_count": 15,
      "outputs": []
    },
    {
      "cell_type": "code",
      "metadata": {
        "colab": {
          "base_uri": "https://localhost:8080/"
        },
        "id": "m8XMwoPNgvw7",
        "outputId": "a1e5f02c-58b5-4148-99b0-348c4573a08a"
      },
      "source": [
        "model = tf.keras.Sequential([my_layer])\n",
        "\n",
        "# configure and train the model\n",
        "model.compile(optimizer='sgd', loss='mean_squared_error')\n",
        "model.fit(xs, ys, epochs=500,verbose=0)\n",
        "\n",
        "# perform inference\n",
        "print(model.predict([10.0]))\n",
        "\n",
        "# see the updated state of the variables\n",
        "print(my_layer.variables)"
      ],
      "execution_count": 16,
      "outputs": [
        {
          "output_type": "stream",
          "text": [
            "[[18.98153]]\n",
            "[<tf.Variable 'simpledense_2/kernel:0' shape=(1, 1) dtype=float32, numpy=array([[1.9973228]], dtype=float32)>, <tf.Variable 'simpledense_2/bias:0' shape=(1,) dtype=float32, numpy=array([-0.9916996], dtype=float32)>]\n"
          ],
          "name": "stdout"
        }
      ]
    },
    {
      "cell_type": "code",
      "metadata": {
        "id": "sHoXH5Efg6Nt"
      },
      "source": [
        "class simpledense(Layer):\n",
        "  def __init__(self,units=None,activation=None):\n",
        "    super(simpledense,self).__init__()\n",
        "    self.units=units\n",
        "    self.activation=tf.keras.activations.get(activation)\n",
        "  def build(self,input_shape):\n",
        "    w_init=tf.random_normal_initializer()\n",
        "    self.w=tf.Variable(name=\"kernel\",\n",
        "          initial_value=w_init(shape=(input_shape[-1],self.units),dtype='float32'),trainable=True)\n",
        "    b_init=tf.zeros_initializer()\n",
        "    self.b=tf.Variable(name=\"bias\",initial_value=b_init(shape=(input_shape[-1],),dtype='float32'),trainable=True)\n",
        "    super().build(input_shape)\n",
        "  def call(self,inputs):\n",
        "    return self.activation(tf.matmul(inputs,self.w)+self.b)"
      ],
      "execution_count": 21,
      "outputs": []
    },
    {
      "cell_type": "code",
      "metadata": {
        "id": "OIp7nNLfjMsq"
      },
      "source": [
        "mnist = tf.keras.datasets.mnist\n",
        "\n",
        "(x_train, y_train),(x_test, y_test) = mnist.load_data()\n",
        "x_train, x_test = x_train / 255.0, x_test / 255.0\n",
        "\n",
        "model = tf.keras.models.Sequential([\n",
        "    tf.keras.layers.Flatten(input_shape=(28, 28)),\n",
        "    simpledense(units=128, activation='relu'),\n",
        "    tf.keras.layers.Dropout(0.2),\n",
        "    tf.keras.layers.Dense(10, activation='softmax')\n",
        "])\n",
        "\n",
        "model.compile(optimizer='adam',\n",
        "              loss='sparse_categorical_crossentropy',\n",
        "              metrics=['accuracy'])\n",
        "\n",
        "model.fit(x_train, y_train, epochs=5)\n",
        "model.evaluate(x_test, y_test)"
      ],
      "execution_count": null,
      "outputs": []
    },
    {
      "cell_type": "code",
      "metadata": {
        "id": "ujsZ4w2ejUZ9"
      },
      "source": [
        ""
      ],
      "execution_count": null,
      "outputs": []
    }
  ]
}
