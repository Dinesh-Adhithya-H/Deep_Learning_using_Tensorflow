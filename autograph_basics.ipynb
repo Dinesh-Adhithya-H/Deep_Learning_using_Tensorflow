{
  "nbformat": 4,
  "nbformat_minor": 0,
  "metadata": {
    "colab": {
      "name": "autograph-basics.ipynb",
      "provenance": [],
      "authorship_tag": "ABX9TyPLUM6YA6sgR44Onm3q025t",
      "include_colab_link": true
    },
    "kernelspec": {
      "name": "python3",
      "display_name": "Python 3"
    },
    "language_info": {
      "name": "python"
    }
  },
  "cells": [
    {
      "cell_type": "markdown",
      "metadata": {
        "id": "view-in-github",
        "colab_type": "text"
      },
      "source": [
        "<a href=\"https://colab.research.google.com/github/Dinesh-Adhithya-H/Deep_Learning_using_Tensorflow/blob/main/autograph_basics.ipynb\" target=\"_parent\"><img src=\"https://colab.research.google.com/assets/colab-badge.svg\" alt=\"Open In Colab\"/></a>"
      ]
    },
    {
      "cell_type": "code",
      "metadata": {
        "id": "Z5jz6ArgD370"
      },
      "source": [
        "import tensorflow as tf"
      ],
      "execution_count": 1,
      "outputs": []
    },
    {
      "cell_type": "code",
      "metadata": {
        "id": "pYzS7i-gEY6J"
      },
      "source": [
        "@tf.function\n",
        "def add(a,b):\n",
        "  return a+b"
      ],
      "execution_count": 4,
      "outputs": []
    },
    {
      "cell_type": "code",
      "metadata": {
        "colab": {
          "base_uri": "https://localhost:8080/"
        },
        "id": "sXpLvG1nEacA",
        "outputId": "4b8c115e-9d56-4d3b-ab5b-ea360339f37a"
      },
      "source": [
        "print(tf.autograph.to_code(add.python_function))"
      ],
      "execution_count": 5,
      "outputs": [
        {
          "output_type": "stream",
          "text": [
            "def tf__add(a, b):\n",
            "    with ag__.FunctionScope('add', 'fscope', ag__.ConversionOptions(recursive=True, user_requested=True, optional_features=(), internal_convert_user_code=True)) as fscope:\n",
            "        do_return = False\n",
            "        retval_ = ag__.UndefinedReturnValue()\n",
            "        try:\n",
            "            do_return = True\n",
            "            retval_ = (ag__.ld(a) + ag__.ld(b))\n",
            "        except:\n",
            "            do_return = False\n",
            "            raise\n",
            "        return fscope.ret(retval_, do_return)\n",
            "\n"
          ],
          "name": "stdout"
        }
      ]
    },
    {
      "cell_type": "code",
      "metadata": {
        "colab": {
          "base_uri": "https://localhost:8080/"
        },
        "id": "VT25z7bKFAgz",
        "outputId": "36796613-018a-408f-b57c-cc34fb044123"
      },
      "source": [
        "a=tf.Variable([[1,2]])\n",
        "b=tf.Variable([[4,5]])\n",
        "tf.add(a,b).numpy()"
      ],
      "execution_count": 7,
      "outputs": [
        {
          "output_type": "execute_result",
          "data": {
            "text/plain": [
              "array([[5, 7]], dtype=int32)"
            ]
          },
          "metadata": {
            "tags": []
          },
          "execution_count": 7
        }
      ]
    },
    {
      "cell_type": "code",
      "metadata": {
        "id": "dJ1UbJFeHgFI"
      },
      "source": [
        "@tf.function\n",
        "\n",
        "def fizzbuzz(max_num):\n",
        "  counter=0\n",
        "  for i in range(max_num):\n",
        "    if i%3 == 0 and i%5 ==5:\n",
        "      print(\"fizzbuzz\")\n",
        "    elif i%3==0:\n",
        "      print(\"fizzbuzz\")\n",
        "    elif num%5 ==0:\n",
        "      print(\"buzz\")\n",
        "    else:\n",
        "      print(i)\n",
        "      counter+=1\n",
        "  return counter"
      ],
      "execution_count": 8,
      "outputs": []
    },
    {
      "cell_type": "code",
      "metadata": {
        "colab": {
          "base_uri": "https://localhost:8080/"
        },
        "id": "hWwZOfYAIKqD",
        "outputId": "6e6e3371-0732-4ae4-fa72-9c99404d0460"
      },
      "source": [
        "print(tf.autograph.to_code(fizzbuzz.python_function))"
      ],
      "execution_count": 10,
      "outputs": [
        {
          "output_type": "stream",
          "text": [
            "def tf__fizzbuzz(max_num):\n",
            "    with ag__.FunctionScope('fizzbuzz', 'fscope', ag__.ConversionOptions(recursive=True, user_requested=True, optional_features=(), internal_convert_user_code=True)) as fscope:\n",
            "        do_return = False\n",
            "        retval_ = ag__.UndefinedReturnValue()\n",
            "        counter = 0\n",
            "\n",
            "        def get_state_3():\n",
            "            return (counter,)\n",
            "\n",
            "        def set_state_3(vars_):\n",
            "            nonlocal counter\n",
            "            (counter,) = vars_\n",
            "\n",
            "        def loop_body(itr):\n",
            "            nonlocal counter\n",
            "            i = itr\n",
            "\n",
            "            def get_state_2():\n",
            "                return (counter,)\n",
            "\n",
            "            def set_state_2(vars_):\n",
            "                nonlocal counter\n",
            "                (counter,) = vars_\n",
            "\n",
            "            def if_body_2():\n",
            "                nonlocal counter\n",
            "                ag__.ld(print)('fizzbuzz')\n",
            "\n",
            "            def else_body_2():\n",
            "                nonlocal counter\n",
            "\n",
            "                def get_state_1():\n",
            "                    return (counter,)\n",
            "\n",
            "                def set_state_1(vars_):\n",
            "                    nonlocal counter\n",
            "                    (counter,) = vars_\n",
            "\n",
            "                def if_body_1():\n",
            "                    nonlocal counter\n",
            "                    ag__.ld(print)('fizzbuzz')\n",
            "\n",
            "                def else_body_1():\n",
            "                    nonlocal counter\n",
            "\n",
            "                    def get_state():\n",
            "                        return (counter,)\n",
            "\n",
            "                    def set_state(vars_):\n",
            "                        nonlocal counter\n",
            "                        (counter,) = vars_\n",
            "\n",
            "                    def if_body():\n",
            "                        nonlocal counter\n",
            "                        ag__.ld(print)('buzz')\n",
            "\n",
            "                    def else_body():\n",
            "                        nonlocal counter\n",
            "                        ag__.ld(print)(ag__.ld(i))\n",
            "                        counter = ag__.ld(counter)\n",
            "                        counter += 1\n",
            "                    ag__.if_stmt(((ag__.ld(num) % 5) == 0), if_body, else_body, get_state, set_state, ('counter',), 1)\n",
            "                ag__.if_stmt(((ag__.ld(i) % 3) == 0), if_body_1, else_body_1, get_state_1, set_state_1, ('counter',), 1)\n",
            "            ag__.if_stmt(ag__.and_((lambda : ((ag__.ld(i) % 3) == 0)), (lambda : ((ag__.ld(i) % 5) == 5))), if_body_2, else_body_2, get_state_2, set_state_2, ('counter',), 1)\n",
            "        i = ag__.Undefined('i')\n",
            "        ag__.for_stmt(ag__.converted_call(ag__.ld(range), (ag__.ld(max_num),), None, fscope), None, loop_body, get_state_3, set_state_3, ('counter',), {'iterate_names': 'i'})\n",
            "        try:\n",
            "            do_return = True\n",
            "            retval_ = ag__.ld(counter)\n",
            "        except:\n",
            "            do_return = False\n",
            "            raise\n",
            "        return fscope.ret(retval_, do_return)\n",
            "\n"
          ],
          "name": "stdout"
        }
      ]
    },
    {
      "cell_type": "code",
      "metadata": {
        "id": "IS2qhyqwIRJ2"
      },
      "source": [
        ""
      ],
      "execution_count": null,
      "outputs": []
    }
  ]
}